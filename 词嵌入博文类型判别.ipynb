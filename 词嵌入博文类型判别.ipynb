{
 "cells": [
  {
   "cell_type": "code",
   "execution_count": 125,
   "metadata": {},
   "outputs": [],
   "source": [
    "from keras.preprocessing.text import Tokenizer\n",
    "from keras.preprocessing.sequence import pad_sequences\n",
    "from keras.utils import to_categorical\n",
    "from keras.models import Model\n",
    "from keras.layers import Embedding,Input,Dense,Conv1D,MaxPooling1D,Dense,Flatten,Lambda,LSTM\n",
    "from keras import backend as K\n",
    "import tensorflow as tf\n",
    "import pandas as pd\n",
    "import numpy as np\n",
    "import jieba\n",
    "import time\n",
    "from IPython.core.interactiveshell import InteractiveShell as IS\n",
    "IS.ast_node_interactivity='all'\n",
    "# 停词表"
   ]
  },
  {
   "cell_type": "code",
   "execution_count": 264,
   "metadata": {},
   "outputs": [
    {
     "data": {
      "image/png": "[encoded data removed]",
      "text/plain": [
       "<Figure size 1080x72 with 1 Axes>"
      ]
     },
     "metadata": {
      "needs_background": "light"
     },
     "output_type": "display_data"
    }
   ],
   "source": [
    "import plotly.graph_objs as go\n",
    "import plotly\n",
    "import pandas as pd\n",
    "import numpy as np\n",
    "import seaborn as sns\n",
    "from IPython.core.interactiveshell import InteractiveShell as IS\n",
    "IS.ast_node_interactivity='all'\n",
    "import matplotlib.pyplot as plt\n",
    "from matplotlib import pylab\n",
    "from sklearn.dummy import DummyClassifier\n",
    "from sklearn.decomposition import PCA\n",
    "#Common Model Algorithms\n",
    "from sklearn import svm, tree, linear_model, neighbors, naive_bayes, ensemble, discriminant_analysis, gaussian_process\n",
    "from xgboost import XGBClassifier,XGBRFRegressor\n",
    "\n",
    "#Common Model Helpers\n",
    "from sklearn.preprocessing import OneHotEncoder, LabelEncoder\n",
    "from sklearn import feature_selection\n",
    "from sklearn import model_selection\n",
    "from sklearn import metrics\n",
    "from sklearn.dummy import DummyClassifier\n",
    "from sklearn.preprocessing import MinMaxScaler,StandardScaler\n",
    "from sklearn.model_selection import train_test_split,cross_val_score,learning_curve,StratifiedKFold,KFold\n",
    "import warnings\n",
    "from sklearn.metrics import r2_score,accuracy_score,roc_auc_score,auc,f1_score,recall_score\n",
    "warnings.filterwarnings('ignore')\n",
    "color_lst = ['#4EACC5', '#FF9C34', '#4E9A06','#dc2624', '#2b4750','#0165fc','#649E7D', '#c7cccf', '#45a0a2',  '#dc8018','#e87a59',\n",
    "         '#7dcaa9',  '#C89F91', \n",
    "         '#6c6d6c', '#4f6268']\n",
    "sns.palplot(color_lst)"
   ]
  },
  {
   "cell_type": "markdown",
   "metadata": {},
   "source": [
    "# 数据读取 "
   ]
  },
  {
   "cell_type": "code",
   "execution_count": 133,
   "metadata": {},
   "outputs": [
    {
     "data": {
      "text/html": [
       "<div>\n",
       "<style scoped>\n",
       "    .dataframe tbody tr th:only-of-type {\n",
       "        vertical-align: middle;\n",
       "    }\n",
       "\n",
       "    .dataframe tbody tr th {\n",
       "        vertical-align: top;\n",
       "    }\n",
       "\n",
       "    .dataframe thead th {\n",
       "        text-align: right;\n",
       "    }\n",
       "</style>\n",
       "<table border=\"1\" class=\"dataframe\">\n",
       "  <thead>\n",
       "    <tr style=\"text-align: right;\">\n",
       "      <th></th>\n",
       "      <th>content</th>\n",
       "      <th>location_map_info</th>\n",
       "      <th>city</th>\n",
       "      <th>province</th>\n",
       "      <th>score</th>\n",
       "      <th>emotion_num</th>\n",
       "      <th>related</th>\n",
       "      <th>period</th>\n",
       "    </tr>\n",
       "    <tr>\n",
       "      <th>created_at</th>\n",
       "      <th></th>\n",
       "      <th></th>\n",
       "      <th></th>\n",
       "      <th></th>\n",
       "      <th></th>\n",
       "      <th></th>\n",
       "      <th></th>\n",
       "      <th></th>\n",
       "    </tr>\n",
       "  </thead>\n",
       "  <tbody>\n",
       "    <tr>\n",
       "      <th>2019-12-01 00:09:00</th>\n",
       "      <td>HAPPY HOMECOMING</td>\n",
       "      <td>104.67524,29.538946</td>\n",
       "      <td>内江市</td>\n",
       "      <td>四川省</td>\n",
       "      <td>4.0</td>\n",
       "      <td>1</td>\n",
       "      <td>0</td>\n",
       "      <td>1</td>\n",
       "    </tr>\n",
       "    <tr>\n",
       "      <th>2019-12-01 01:51:44</th>\n",
       "      <td>刚不小心被狗咬了一口🐶 请问需要打狂犬疫苗么～</td>\n",
       "      <td>118.653564,34.91798</td>\n",
       "      <td>临沂市</td>\n",
       "      <td>山东省</td>\n",
       "      <td>-1.7</td>\n",
       "      <td>5</td>\n",
       "      <td>0</td>\n",
       "      <td>1</td>\n",
       "    </tr>\n",
       "    <tr>\n",
       "      <th>2019-12-01 04:51:51</th>\n",
       "      <td>不失眠但多梦 算不上早睡但绝对是早起</td>\n",
       "      <td>131.152542,44.412312</td>\n",
       "      <td>牡丹江市</td>\n",
       "      <td>黑龙江省</td>\n",
       "      <td>2.0</td>\n",
       "      <td>8</td>\n",
       "      <td>0</td>\n",
       "      <td>1</td>\n",
       "    </tr>\n",
       "    <tr>\n",
       "      <th>2019-12-01 08:36:27</th>\n",
       "      <td>12月你好</td>\n",
       "      <td>131.1525458345,44.412310280301</td>\n",
       "      <td>牡丹江市</td>\n",
       "      <td>黑龙江省</td>\n",
       "      <td>2.2</td>\n",
       "      <td>2</td>\n",
       "      <td>0</td>\n",
       "      <td>1</td>\n",
       "    </tr>\n",
       "    <tr>\n",
       "      <th>2019-12-01 08:42:15</th>\n",
       "      <td>外面看着好冷清</td>\n",
       "      <td>119.303543,26.078131</td>\n",
       "      <td>福州市</td>\n",
       "      <td>福建省</td>\n",
       "      <td>-2.0</td>\n",
       "      <td>2</td>\n",
       "      <td>0</td>\n",
       "      <td>1</td>\n",
       "    </tr>\n",
       "  </tbody>\n",
       "</table>\n",
       "</div>"
      ],
      "text/plain": [
       "                                      content               location_map_info  \\\n",
       "created_at                                                                      \n",
       "2019-12-01 00:09:00         HAPPY HOMECOMING              104.67524,29.538946   \n",
       "2019-12-01 01:51:44  刚不小心被狗咬了一口🐶 请问需要打狂犬疫苗么～              118.653564,34.91798   \n",
       "2019-12-01 04:51:51       不失眠但多梦 算不上早睡但绝对是早起             131.152542,44.412312   \n",
       "2019-12-01 08:36:27                    12月你好   131.1525458345,44.412310280301   \n",
       "2019-12-01 08:42:15                  外面看着好冷清             119.303543,26.078131   \n",
       "\n",
       "                     city province  score  emotion_num  related  period  \n",
       "created_at                                                               \n",
       "2019-12-01 00:09:00   内江市      四川省    4.0            1        0       1  \n",
       "2019-12-01 01:51:44   临沂市      山东省   -1.7            5        0       1  \n",
       "2019-12-01 04:51:51  牡丹江市     黑龙江省    2.0            8        0       1  \n",
       "2019-12-01 08:36:27  牡丹江市     黑龙江省    2.2            2        0       1  \n",
       "2019-12-01 08:42:15   福州市      福建省   -2.0            2        0       1  "
      ]
     },
     "execution_count": 133,
     "metadata": {},
     "output_type": "execute_result"
    },
    {
     "data": {
      "text/plain": [
       "(354508, 8)"
      ]
     },
     "execution_count": 133,
     "metadata": {},
     "output_type": "execute_result"
    }
   ],
   "source": [
    "df=pd.read_csv('D://IDEA//情感分析论文/论文数据/最终论文数据.csv',index_col='created_at',parse_dates=True)\n",
    "df.head()\n",
    "df.shape"
   ]
  },
  {
   "cell_type": "markdown",
   "metadata": {},
   "source": [
    "# 根据jieba分词,仅以空格分开"
   ]
  },
  {
   "cell_type": "code",
   "execution_count": 41,
   "metadata": {},
   "outputs": [],
   "source": [
    "# 根据词库分词\n",
    "jieba.load_userdict(\"70000-dict.txt\")\n",
    "def divide_word(df,column='content'):\n",
    "    seg_list = jieba.cut(df[column], cut_all=False)\n",
    "    return \" \".join(seg_list)"
   ]
  },
  {
   "cell_type": "code",
   "execution_count": 42,
   "metadata": {},
   "outputs": [
    {
     "name": "stdout",
     "output_type": "stream",
     "text": [
      "Found 354508 texts.\n",
      "Wall time: 1min 11s\n"
     ]
    }
   ],
   "source": [
    "%%time\n",
    "data=df.copy()\n",
    "data['content'] = data.apply(divide_word,axis = 1)\n",
    "texts = data['content'].values\n",
    "print('Found %s texts.' % len(texts))"
   ]
  },
  {
   "cell_type": "markdown",
   "metadata": {},
   "source": [
    "## 将texts中出现过的词组成词库word_index\n",
    "sequences 为texts转化后的序号表示"
   ]
  },
  {
   "cell_type": "code",
   "execution_count": 43,
   "metadata": {},
   "outputs": [
    {
     "name": "stdout",
     "output_type": "stream",
     "text": [
      "Found 168876 unique tokens.\n",
      "Wall time: 19 s\n"
     ]
    }
   ],
   "source": [
    "%%time\n",
    "MAX_SEQUENCE_LENGTH = 200 #样本最长369，可以测试更长的数据\n",
    "EMBEDDING_DIM = 200 #腾讯的维度，不能修改\n",
    "\n",
    "# 将字符转化为序号,并分开\n",
    "tokenizer = Tokenizer()\n",
    "tokenizer.fit_on_texts(texts)\n",
    "sequences = tokenizer.texts_to_sequences(texts)\n",
    "\n",
    "# 词库：字典，序号从1开始\n",
    "word_index = tokenizer.word_index\n",
    "print('Found %s unique tokens.' % len(word_index))"
   ]
  },
  {
   "cell_type": "code",
   "execution_count": 44,
   "metadata": {},
   "outputs": [
    {
     "data": {
      "text/plain": [
       "'HAPPY   HOMECOMING  '"
      ]
     },
     "execution_count": 44,
     "metadata": {},
     "output_type": "execute_result"
    },
    {
     "data": {
      "text/plain": [
       "[10320, 96457]"
      ]
     },
     "execution_count": 44,
     "metadata": {},
     "output_type": "execute_result"
    },
    {
     "data": {
      "text/plain": [
       "'刚 不小心 被狗 咬了一口 🐶   请问 需要 打 狂犬疫苗 么 ～  '"
      ]
     },
     "execution_count": 44,
     "metadata": {},
     "output_type": "execute_result"
    },
    {
     "data": {
      "text/plain": [
       "'刚不小心被狗咬了一口🐶 请问需要打狂犬疫苗么～ '"
      ]
     },
     "execution_count": 44,
     "metadata": {},
     "output_type": "execute_result"
    }
   ],
   "source": [
    "\n",
    "texts[0]\n",
    "sequences[0]\n",
    "texts[1]\n",
    "df['content'].values[1]"
   ]
  },
  {
   "cell_type": "code",
   "execution_count": 10,
   "metadata": {},
   "outputs": [],
   "source": [
    "pd.DataFrame(texts).to_csv('论文数据/texts.csv',index=False)"
   ]
  },
  {
   "cell_type": "code",
   "execution_count": 11,
   "metadata": {},
   "outputs": [],
   "source": [
    "pd.DataFrame(sequences).to_csv('论文数据/sequences.txt',index=False)"
   ]
  },
  {
   "cell_type": "markdown",
   "metadata": {},
   "source": [
    "## 读取词向量库"
   ]
  },
  {
   "cell_type": "code",
   "execution_count": 45,
   "metadata": {},
   "outputs": [
    {
     "name": "stdout",
     "output_type": "stream",
     "text": [
      "Found 45000 word vectors.\n",
      "Wall time: 2.78 s\n"
     ]
    }
   ],
   "source": [
    "%%time\n",
    "embeddings_index = {}\n",
    "# key 为词，value为向量表示\n",
    "with open('45000-small.txt','r',encoding='UTF-8') as f:\n",
    "    for i,line in enumerate(f):\n",
    "        if i == 0:\n",
    "            continue\n",
    "        values = line.split()\n",
    "        word = values[0]\n",
    "        coefs = np.asarray(values[1:], dtype='float32')\n",
    "        embeddings_index[word] = coefs\n",
    "print('Found %s word vectors.' % len(embeddings_index))"
   ]
  },
  {
   "cell_type": "markdown",
   "metadata": {},
   "source": [
    "## 从词向量库提取向量对应content的词向量库\n",
    "word_index是content的词库，字典形式，key:字符,value:序号,1开始\n",
    "\n",
    "\n",
    "embedding_index是词向量库，字典形式，key:字符,value:词向量\n",
    "\n",
    "embedding_matrix是content对应后的词向量库\n",
    "\n",
    "word_vector是content的词向量库，key:序号1开始,value:向量\n",
    "\n",
    "\n",
    "之所以用序号做key，是因为sequence已被转化为序号的集合"
   ]
  },
  {
   "cell_type": "code",
   "execution_count": 46,
   "metadata": {},
   "outputs": [],
   "source": [
    "embedding_matrix = np.zeros((len(word_index), EMBEDDING_DIM))\n",
    "for word, i in word_index.items():\n",
    "    embedding_vector = embeddings_index.get(word)\n",
    "    if embedding_vector is not None:\n",
    "        # words not found in embedding index will be all-zeros.\n",
    "        embedding_matrix[i-1] = embedding_vector"
   ]
  },
  {
   "cell_type": "code",
   "execution_count": 47,
   "metadata": {},
   "outputs": [],
   "source": [
    "word_vector=dict(zip(np.arange(1,embedding_matrix.shape[0]+1),embedding_matrix))"
   ]
  },
  {
   "cell_type": "code",
   "execution_count": 17,
   "metadata": {},
   "outputs": [
    {
     "data": {
      "text/plain": [
       "2"
      ]
     },
     "execution_count": 17,
     "metadata": {},
     "output_type": "execute_result"
    },
    {
     "data": {
      "text/plain": [
       "11"
      ]
     },
     "execution_count": 17,
     "metadata": {},
     "output_type": "execute_result"
    },
    {
     "data": {
      "text/plain": [
       "(200,)"
      ]
     },
     "execution_count": 17,
     "metadata": {},
     "output_type": "execute_result"
    }
   ],
   "source": [
    "len(sequences[0])\n",
    "len(sequences[1])\n",
    "word_vector.get(3).shape"
   ]
  },
  {
   "cell_type": "markdown",
   "metadata": {},
   "source": [
    "## 将每个content包含的词向量取均值"
   ]
  },
  {
   "cell_type": "code",
   "execution_count": 48,
   "metadata": {},
   "outputs": [
    {
     "name": "stdout",
     "output_type": "stream",
     "text": [
      "Wall time: 16.3 s\n"
     ]
    }
   ],
   "source": [
    "%%time\n",
    "content_vetor=np.zeros((len(sequences),EMBEDDING_DIM))\n",
    "for i,data_i in enumerate(sequences):\n",
    "    _vetor_array=np.zeros(EMBEDDING_DIM)\n",
    "    # data_i 表示一个content\n",
    "    for j in data_i:\n",
    "        # j 为每个content包含的序号\n",
    "        _vetor=word_vector.get(j)\n",
    "        if _vetor is not None:\n",
    "            _vetor_array+=_vetor\n",
    "    content_vetor[i]=_vetor_array/len(data_i)\n",
    "    "
   ]
  },
  {
   "cell_type": "markdown",
   "metadata": {},
   "source": [
    "# 标签数据"
   ]
  },
  {
   "cell_type": "code",
   "execution_count": 134,
   "metadata": {},
   "outputs": [
    {
     "data": {
      "text/html": [
       "<div>\n",
       "<style scoped>\n",
       "    .dataframe tbody tr th:only-of-type {\n",
       "        vertical-align: middle;\n",
       "    }\n",
       "\n",
       "    .dataframe tbody tr th {\n",
       "        vertical-align: top;\n",
       "    }\n",
       "\n",
       "    .dataframe thead th {\n",
       "        text-align: right;\n",
       "    }\n",
       "</style>\n",
       "<table border=\"1\" class=\"dataframe\">\n",
       "  <thead>\n",
       "    <tr style=\"text-align: right;\">\n",
       "      <th></th>\n",
       "      <th>content</th>\n",
       "      <th>location_map_info</th>\n",
       "      <th>city</th>\n",
       "      <th>province</th>\n",
       "      <th>score</th>\n",
       "      <th>emotion_num</th>\n",
       "      <th>related</th>\n",
       "      <th>period</th>\n",
       "    </tr>\n",
       "    <tr>\n",
       "      <th>created_at</th>\n",
       "      <th></th>\n",
       "      <th></th>\n",
       "      <th></th>\n",
       "      <th></th>\n",
       "      <th></th>\n",
       "      <th></th>\n",
       "      <th></th>\n",
       "      <th></th>\n",
       "    </tr>\n",
       "  </thead>\n",
       "  <tbody>\n",
       "    <tr>\n",
       "      <th>2019-12-31 01:36:43</th>\n",
       "      <td>我分享了文章洋葱是蔬菜皇后…… 钟南山：支架！让生命进入倒计时</td>\n",
       "      <td>117.353729,39.731544</td>\n",
       "      <td>天津市</td>\n",
       "      <td>天津市</td>\n",
       "      <td>9.2</td>\n",
       "      <td>17</td>\n",
       "      <td>0</td>\n",
       "      <td>1</td>\n",
       "    </tr>\n",
       "    <tr>\n",
       "      <th>2019-12-31 02:10:56</th>\n",
       "      <td>刚刚学会excle的函数VLOOKUP，可把我🐮B坏了！！！叉会腰[酷][酷][酷] 三个小...</td>\n",
       "      <td>116.414775,39.910965</td>\n",
       "      <td>北京市</td>\n",
       "      <td>北京市</td>\n",
       "      <td>-2.2</td>\n",
       "      <td>36</td>\n",
       "      <td>0</td>\n",
       "      <td>1</td>\n",
       "    </tr>\n",
       "    <tr>\n",
       "      <th>2019-12-31 04:40:52</th>\n",
       "      <td>趁着疫苗有效期 我爱你猫</td>\n",
       "      <td>125.390442,43.796951</td>\n",
       "      <td>长春市</td>\n",
       "      <td>吉林省</td>\n",
       "      <td>-0.3</td>\n",
       "      <td>3</td>\n",
       "      <td>0</td>\n",
       "      <td>1</td>\n",
       "    </tr>\n",
       "    <tr>\n",
       "      <th>2019-12-31 05:22:09</th>\n",
       "      <td>2019最后一天了，加油＾０＾~</td>\n",
       "      <td>127.172182,44.586528</td>\n",
       "      <td>吉林市</td>\n",
       "      <td>吉林省</td>\n",
       "      <td>12.4</td>\n",
       "      <td>8</td>\n",
       "      <td>0</td>\n",
       "      <td>1</td>\n",
       "    </tr>\n",
       "    <tr>\n",
       "      <th>2019-12-31 06:02:14</th>\n",
       "      <td>住院第三十天。 给自己和宝宝加油，爸爸和很多关心我们的人在等着我们完成今天的所有操作，凯旋而...</td>\n",
       "      <td>116.416061,39.913582</td>\n",
       "      <td>北京市</td>\n",
       "      <td>北京市</td>\n",
       "      <td>22.0</td>\n",
       "      <td>38</td>\n",
       "      <td>0</td>\n",
       "      <td>1</td>\n",
       "    </tr>\n",
       "  </tbody>\n",
       "</table>\n",
       "</div>"
      ],
      "text/plain": [
       "                                                               content  \\\n",
       "created_at                                                               \n",
       "2019-12-31 01:36:43                   我分享了文章洋葱是蔬菜皇后…… 钟南山：支架！让生命进入倒计时    \n",
       "2019-12-31 02:10:56  刚刚学会excle的函数VLOOKUP，可把我🐮B坏了！！！叉会腰[酷][酷][酷] 三个小...   \n",
       "2019-12-31 04:40:52                                      趁着疫苗有效期 我爱你猫    \n",
       "2019-12-31 05:22:09                                  2019最后一天了，加油＾０＾~    \n",
       "2019-12-31 06:02:14  住院第三十天。 给自己和宝宝加油，爸爸和很多关心我们的人在等着我们完成今天的所有操作，凯旋而...   \n",
       "\n",
       "                        location_map_info city province  score  emotion_num  \\\n",
       "created_at                                                                    \n",
       "2019-12-31 01:36:43  117.353729,39.731544  天津市      天津市    9.2           17   \n",
       "2019-12-31 02:10:56  116.414775,39.910965  北京市      北京市   -2.2           36   \n",
       "2019-12-31 04:40:52  125.390442,43.796951  长春市      吉林省   -0.3            3   \n",
       "2019-12-31 05:22:09  127.172182,44.586528  吉林市      吉林省   12.4            8   \n",
       "2019-12-31 06:02:14  116.416061,39.913582  北京市      北京市   22.0           38   \n",
       "\n",
       "                     related  period  \n",
       "created_at                            \n",
       "2019-12-31 01:36:43        0       1  \n",
       "2019-12-31 02:10:56        0       1  \n",
       "2019-12-31 04:40:52        0       1  \n",
       "2019-12-31 05:22:09        0       1  \n",
       "2019-12-31 06:02:14        0       1  "
      ]
     },
     "execution_count": 134,
     "metadata": {},
     "output_type": "execute_result"
    }
   ],
   "source": [
    "data=df['2019-12-31':'2020-02-23']\n",
    "data.head()"
   ]
  },
  {
   "cell_type": "code",
   "execution_count": 84,
   "metadata": {},
   "outputs": [],
   "source": [
    "a=pd.DataFrame(content_vetor)"
   ]
  },
  {
   "cell_type": "code",
   "execution_count": 96,
   "metadata": {},
   "outputs": [
    {
     "data": {
      "text/html": [
       "<div>\n",
       "<style scoped>\n",
       "    .dataframe tbody tr th:only-of-type {\n",
       "        vertical-align: middle;\n",
       "    }\n",
       "\n",
       "    .dataframe tbody tr th {\n",
       "        vertical-align: top;\n",
       "    }\n",
       "\n",
       "    .dataframe thead th {\n",
       "        text-align: right;\n",
       "    }\n",
       "</style>\n",
       "<table border=\"1\" class=\"dataframe\">\n",
       "  <thead>\n",
       "    <tr style=\"text-align: right;\">\n",
       "      <th></th>\n",
       "      <th>0</th>\n",
       "      <th>1</th>\n",
       "      <th>2</th>\n",
       "      <th>3</th>\n",
       "      <th>4</th>\n",
       "      <th>5</th>\n",
       "      <th>6</th>\n",
       "      <th>7</th>\n",
       "      <th>8</th>\n",
       "      <th>9</th>\n",
       "      <th>...</th>\n",
       "      <th>190</th>\n",
       "      <th>191</th>\n",
       "      <th>192</th>\n",
       "      <th>193</th>\n",
       "      <th>194</th>\n",
       "      <th>195</th>\n",
       "      <th>196</th>\n",
       "      <th>197</th>\n",
       "      <th>198</th>\n",
       "      <th>199</th>\n",
       "    </tr>\n",
       "    <tr>\n",
       "      <th>created_at</th>\n",
       "      <th></th>\n",
       "      <th></th>\n",
       "      <th></th>\n",
       "      <th></th>\n",
       "      <th></th>\n",
       "      <th></th>\n",
       "      <th></th>\n",
       "      <th></th>\n",
       "      <th></th>\n",
       "      <th></th>\n",
       "      <th></th>\n",
       "      <th></th>\n",
       "      <th></th>\n",
       "      <th></th>\n",
       "      <th></th>\n",
       "      <th></th>\n",
       "      <th></th>\n",
       "      <th></th>\n",
       "      <th></th>\n",
       "      <th></th>\n",
       "      <th></th>\n",
       "    </tr>\n",
       "  </thead>\n",
       "  <tbody>\n",
       "    <tr>\n",
       "      <th>2019-12-31 01:36:43</th>\n",
       "      <td>0.208890</td>\n",
       "      <td>-0.310368</td>\n",
       "      <td>-0.022426</td>\n",
       "      <td>0.181346</td>\n",
       "      <td>0.104089</td>\n",
       "      <td>-0.005829</td>\n",
       "      <td>0.053153</td>\n",
       "      <td>0.114983</td>\n",
       "      <td>0.144577</td>\n",
       "      <td>0.202922</td>\n",
       "      <td>...</td>\n",
       "      <td>0.099621</td>\n",
       "      <td>0.134938</td>\n",
       "      <td>0.102078</td>\n",
       "      <td>-0.020152</td>\n",
       "      <td>0.169218</td>\n",
       "      <td>0.315875</td>\n",
       "      <td>0.139410</td>\n",
       "      <td>-0.271119</td>\n",
       "      <td>-0.194817</td>\n",
       "      <td>0.108773</td>\n",
       "    </tr>\n",
       "    <tr>\n",
       "      <th>2019-12-31 02:10:56</th>\n",
       "      <td>0.143632</td>\n",
       "      <td>-0.201014</td>\n",
       "      <td>-0.002247</td>\n",
       "      <td>0.076406</td>\n",
       "      <td>0.121863</td>\n",
       "      <td>-0.015342</td>\n",
       "      <td>0.033045</td>\n",
       "      <td>0.044507</td>\n",
       "      <td>0.086376</td>\n",
       "      <td>0.130168</td>\n",
       "      <td>...</td>\n",
       "      <td>0.103452</td>\n",
       "      <td>0.073922</td>\n",
       "      <td>0.019178</td>\n",
       "      <td>-0.047573</td>\n",
       "      <td>0.122434</td>\n",
       "      <td>0.281119</td>\n",
       "      <td>0.043988</td>\n",
       "      <td>-0.161373</td>\n",
       "      <td>-0.137274</td>\n",
       "      <td>0.068035</td>\n",
       "    </tr>\n",
       "    <tr>\n",
       "      <th>2019-12-31 04:40:52</th>\n",
       "      <td>0.315573</td>\n",
       "      <td>-0.322999</td>\n",
       "      <td>-0.065702</td>\n",
       "      <td>0.110107</td>\n",
       "      <td>0.092705</td>\n",
       "      <td>0.247010</td>\n",
       "      <td>0.108960</td>\n",
       "      <td>0.155297</td>\n",
       "      <td>0.010627</td>\n",
       "      <td>-0.050202</td>\n",
       "      <td>...</td>\n",
       "      <td>0.136547</td>\n",
       "      <td>0.121713</td>\n",
       "      <td>-0.007129</td>\n",
       "      <td>-0.160896</td>\n",
       "      <td>0.039185</td>\n",
       "      <td>0.434827</td>\n",
       "      <td>0.028972</td>\n",
       "      <td>-0.234969</td>\n",
       "      <td>-0.308386</td>\n",
       "      <td>0.087896</td>\n",
       "    </tr>\n",
       "    <tr>\n",
       "      <th>2019-12-31 05:22:09</th>\n",
       "      <td>-0.077624</td>\n",
       "      <td>-0.152944</td>\n",
       "      <td>-0.113369</td>\n",
       "      <td>0.164475</td>\n",
       "      <td>0.165110</td>\n",
       "      <td>-0.013126</td>\n",
       "      <td>0.045473</td>\n",
       "      <td>0.075506</td>\n",
       "      <td>0.008647</td>\n",
       "      <td>0.056379</td>\n",
       "      <td>...</td>\n",
       "      <td>0.094309</td>\n",
       "      <td>0.143277</td>\n",
       "      <td>-0.010588</td>\n",
       "      <td>-0.125409</td>\n",
       "      <td>0.020278</td>\n",
       "      <td>0.218151</td>\n",
       "      <td>0.000649</td>\n",
       "      <td>-0.108630</td>\n",
       "      <td>-0.107405</td>\n",
       "      <td>-0.021225</td>\n",
       "    </tr>\n",
       "    <tr>\n",
       "      <th>2019-12-31 06:02:14</th>\n",
       "      <td>0.101356</td>\n",
       "      <td>-0.201655</td>\n",
       "      <td>-0.114816</td>\n",
       "      <td>0.190558</td>\n",
       "      <td>0.129149</td>\n",
       "      <td>0.025798</td>\n",
       "      <td>0.034289</td>\n",
       "      <td>0.058992</td>\n",
       "      <td>0.118720</td>\n",
       "      <td>0.094229</td>\n",
       "      <td>...</td>\n",
       "      <td>0.164988</td>\n",
       "      <td>0.091231</td>\n",
       "      <td>0.027006</td>\n",
       "      <td>-0.079551</td>\n",
       "      <td>0.118978</td>\n",
       "      <td>0.246056</td>\n",
       "      <td>0.084212</td>\n",
       "      <td>-0.161702</td>\n",
       "      <td>-0.205749</td>\n",
       "      <td>0.071236</td>\n",
       "    </tr>\n",
       "  </tbody>\n",
       "</table>\n",
       "<p>5 rows × 200 columns</p>\n",
       "</div>"
      ],
      "text/plain": [
       "                          0         1         2         3         4    \\\n",
       "created_at                                                              \n",
       "2019-12-31 01:36:43  0.208890 -0.310368 -0.022426  0.181346  0.104089   \n",
       "2019-12-31 02:10:56  0.143632 -0.201014 -0.002247  0.076406  0.121863   \n",
       "2019-12-31 04:40:52  0.315573 -0.322999 -0.065702  0.110107  0.092705   \n",
       "2019-12-31 05:22:09 -0.077624 -0.152944 -0.113369  0.164475  0.165110   \n",
       "2019-12-31 06:02:14  0.101356 -0.201655 -0.114816  0.190558  0.129149   \n",
       "\n",
       "                          5         6         7         8         9    ...  \\\n",
       "created_at                                                             ...   \n",
       "2019-12-31 01:36:43 -0.005829  0.053153  0.114983  0.144577  0.202922  ...   \n",
       "2019-12-31 02:10:56 -0.015342  0.033045  0.044507  0.086376  0.130168  ...   \n",
       "2019-12-31 04:40:52  0.247010  0.108960  0.155297  0.010627 -0.050202  ...   \n",
       "2019-12-31 05:22:09 -0.013126  0.045473  0.075506  0.008647  0.056379  ...   \n",
       "2019-12-31 06:02:14  0.025798  0.034289  0.058992  0.118720  0.094229  ...   \n",
       "\n",
       "                          190       191       192       193       194  \\\n",
       "created_at                                                              \n",
       "2019-12-31 01:36:43  0.099621  0.134938  0.102078 -0.020152  0.169218   \n",
       "2019-12-31 02:10:56  0.103452  0.073922  0.019178 -0.047573  0.122434   \n",
       "2019-12-31 04:40:52  0.136547  0.121713 -0.007129 -0.160896  0.039185   \n",
       "2019-12-31 05:22:09  0.094309  0.143277 -0.010588 -0.125409  0.020278   \n",
       "2019-12-31 06:02:14  0.164988  0.091231  0.027006 -0.079551  0.118978   \n",
       "\n",
       "                          195       196       197       198       199  \n",
       "created_at                                                             \n",
       "2019-12-31 01:36:43  0.315875  0.139410 -0.271119 -0.194817  0.108773  \n",
       "2019-12-31 02:10:56  0.281119  0.043988 -0.161373 -0.137274  0.068035  \n",
       "2019-12-31 04:40:52  0.434827  0.028972 -0.234969 -0.308386  0.087896  \n",
       "2019-12-31 05:22:09  0.218151  0.000649 -0.108630 -0.107405 -0.021225  \n",
       "2019-12-31 06:02:14  0.246056  0.084212 -0.161702 -0.205749  0.071236  \n",
       "\n",
       "[5 rows x 200 columns]"
      ]
     },
     "execution_count": 96,
     "metadata": {},
     "output_type": "execute_result"
    }
   ],
   "source": [
    "# 和data匹配\n",
    "vector=a[(df.index>='2019-12-31')&(df.index<'2020-02-24')]\n",
    "vector.index=data.index\n",
    "vector.head()"
   ]
  },
  {
   "cell_type": "code",
   "execution_count": 136,
   "metadata": {},
   "outputs": [
    {
     "data": {
      "text/html": [
       "<div>\n",
       "<style scoped>\n",
       "    .dataframe tbody tr th:only-of-type {\n",
       "        vertical-align: middle;\n",
       "    }\n",
       "\n",
       "    .dataframe tbody tr th {\n",
       "        vertical-align: top;\n",
       "    }\n",
       "\n",
       "    .dataframe thead th {\n",
       "        text-align: right;\n",
       "    }\n",
       "</style>\n",
       "<table border=\"1\" class=\"dataframe\">\n",
       "  <thead>\n",
       "    <tr style=\"text-align: right;\">\n",
       "      <th></th>\n",
       "      <th>content</th>\n",
       "      <th>location_map_info</th>\n",
       "      <th>city</th>\n",
       "      <th>province</th>\n",
       "      <th>score</th>\n",
       "      <th>emotion_num</th>\n",
       "      <th>related</th>\n",
       "      <th>period</th>\n",
       "    </tr>\n",
       "    <tr>\n",
       "      <th>created_at</th>\n",
       "      <th></th>\n",
       "      <th></th>\n",
       "      <th></th>\n",
       "      <th></th>\n",
       "      <th></th>\n",
       "      <th></th>\n",
       "      <th></th>\n",
       "      <th></th>\n",
       "    </tr>\n",
       "  </thead>\n",
       "  <tbody>\n",
       "    <tr>\n",
       "      <th>2020-01-25 12:58:00</th>\n",
       "      <td>太好了，中国加油，医生护士真的很伟大🙏</td>\n",
       "      <td>116.505646,31.768353</td>\n",
       "      <td>六安市</td>\n",
       "      <td>安徽省</td>\n",
       "      <td>2.5</td>\n",
       "      <td>7</td>\n",
       "      <td>0</td>\n",
       "      <td>2</td>\n",
       "    </tr>\n",
       "    <tr>\n",
       "      <th>2020-01-23 08:56:00</th>\n",
       "      <td>不传谣！</td>\n",
       "      <td>117.01339,25.024303</td>\n",
       "      <td>龙岩市</td>\n",
       "      <td>福建省</td>\n",
       "      <td>-0.1</td>\n",
       "      <td>1</td>\n",
       "      <td>0</td>\n",
       "      <td>2</td>\n",
       "    </tr>\n",
       "    <tr>\n",
       "      <th>2020-01-23 03:34:00</th>\n",
       "      <td>一直到现在就没有睡着过，，封城了，居然，，。瑟瑟发抖……</td>\n",
       "      <td>114.354537,30.578143</td>\n",
       "      <td>武汉市</td>\n",
       "      <td>湖北省</td>\n",
       "      <td>-3.5</td>\n",
       "      <td>14</td>\n",
       "      <td>0</td>\n",
       "      <td>2</td>\n",
       "    </tr>\n",
       "    <tr>\n",
       "      <th>2020-01-20 08:32:00</th>\n",
       "      <td>太难了。</td>\n",
       "      <td>119.303543,26.078131</td>\n",
       "      <td>福州市</td>\n",
       "      <td>福建省</td>\n",
       "      <td>0.3</td>\n",
       "      <td>2</td>\n",
       "      <td>0</td>\n",
       "      <td>2</td>\n",
       "    </tr>\n",
       "    <tr>\n",
       "      <th>2020-01-23 12:28:00</th>\n",
       "      <td>菏泽市立医︀院发︄热门诊位︃置： 医院东北角全科医师培训︇基地一楼南侧。 有发︍烧请直︊接去...</td>\n",
       "      <td>115.425634,35.238715</td>\n",
       "      <td>菏泽市</td>\n",
       "      <td>山东省</td>\n",
       "      <td>4.0</td>\n",
       "      <td>37</td>\n",
       "      <td>1</td>\n",
       "      <td>2</td>\n",
       "    </tr>\n",
       "  </tbody>\n",
       "</table>\n",
       "</div>"
      ],
      "text/plain": [
       "                                                               content  \\\n",
       "created_at                                                               \n",
       "2020-01-25 12:58:00                               太好了，中国加油，医生护士真的很伟大🙏    \n",
       "2020-01-23 08:56:00                                              不传谣！    \n",
       "2020-01-23 03:34:00                      一直到现在就没有睡着过，，封城了，居然，，。瑟瑟发抖……    \n",
       "2020-01-20 08:32:00                                              太难了。    \n",
       "2020-01-23 12:28:00  菏泽市立医︀院发︄热门诊位︃置： 医院东北角全科医师培训︇基地一楼南侧。 有发︍烧请直︊接去...   \n",
       "\n",
       "                        location_map_info city province  score  emotion_num  \\\n",
       "created_at                                                                    \n",
       "2020-01-25 12:58:00  116.505646,31.768353  六安市      安徽省    2.5            7   \n",
       "2020-01-23 08:56:00   117.01339,25.024303  龙岩市      福建省   -0.1            1   \n",
       "2020-01-23 03:34:00  114.354537,30.578143  武汉市      湖北省   -3.5           14   \n",
       "2020-01-20 08:32:00  119.303543,26.078131  福州市      福建省    0.3            2   \n",
       "2020-01-23 12:28:00  115.425634,35.238715  菏泽市      山东省    4.0           37   \n",
       "\n",
       "                     related  period  \n",
       "created_at                            \n",
       "2020-01-25 12:58:00        0       2  \n",
       "2020-01-23 08:56:00        0       2  \n",
       "2020-01-23 03:34:00        0       2  \n",
       "2020-01-20 08:32:00        0       2  \n",
       "2020-01-23 12:28:00        1       2  "
      ]
     },
     "execution_count": 136,
     "metadata": {},
     "output_type": "execute_result"
    }
   ],
   "source": [
    "data_lst=[]\n",
    "vector_lst=[]\n",
    "for i in range(2,5):\n",
    "    np.random.seed(100)\n",
    "    _data=data[data.period==i]\n",
    "    _vector=vector[data.period==i]\n",
    "    num_th=np.random.randint(0,len(_data),size=200)\n",
    "    vector_lst.append(_vector.iloc[num_th.tolist(),:])\n",
    "    data_lst.append(_data.iloc[num_th.tolist(),:])\n",
    "_=pd.concat(data_lst,axis=0)\n",
    "_.head()"
   ]
  },
  {
   "cell_type": "code",
   "execution_count": 137,
   "metadata": {},
   "outputs": [
    {
     "data": {
      "text/html": [
       "<div>\n",
       "<style scoped>\n",
       "    .dataframe tbody tr th:only-of-type {\n",
       "        vertical-align: middle;\n",
       "    }\n",
       "\n",
       "    .dataframe tbody tr th {\n",
       "        vertical-align: top;\n",
       "    }\n",
       "\n",
       "    .dataframe thead th {\n",
       "        text-align: right;\n",
       "    }\n",
       "</style>\n",
       "<table border=\"1\" class=\"dataframe\">\n",
       "  <thead>\n",
       "    <tr style=\"text-align: right;\">\n",
       "      <th></th>\n",
       "      <th>0</th>\n",
       "      <th>1</th>\n",
       "      <th>2</th>\n",
       "      <th>3</th>\n",
       "      <th>4</th>\n",
       "      <th>5</th>\n",
       "      <th>6</th>\n",
       "      <th>7</th>\n",
       "      <th>8</th>\n",
       "      <th>9</th>\n",
       "      <th>...</th>\n",
       "      <th>192</th>\n",
       "      <th>193</th>\n",
       "      <th>194</th>\n",
       "      <th>195</th>\n",
       "      <th>196</th>\n",
       "      <th>197</th>\n",
       "      <th>198</th>\n",
       "      <th>199</th>\n",
       "      <th>temp</th>\n",
       "      <th>related</th>\n",
       "    </tr>\n",
       "    <tr>\n",
       "      <th>created_at</th>\n",
       "      <th></th>\n",
       "      <th></th>\n",
       "      <th></th>\n",
       "      <th></th>\n",
       "      <th></th>\n",
       "      <th></th>\n",
       "      <th></th>\n",
       "      <th></th>\n",
       "      <th></th>\n",
       "      <th></th>\n",
       "      <th></th>\n",
       "      <th></th>\n",
       "      <th></th>\n",
       "      <th></th>\n",
       "      <th></th>\n",
       "      <th></th>\n",
       "      <th></th>\n",
       "      <th></th>\n",
       "      <th></th>\n",
       "      <th></th>\n",
       "      <th></th>\n",
       "    </tr>\n",
       "  </thead>\n",
       "  <tbody>\n",
       "    <tr>\n",
       "      <th>2020-01-25 12:58:00</th>\n",
       "      <td>0.113078</td>\n",
       "      <td>-0.147917</td>\n",
       "      <td>-0.059400</td>\n",
       "      <td>0.178280</td>\n",
       "      <td>0.132715</td>\n",
       "      <td>0.000420</td>\n",
       "      <td>-0.000697</td>\n",
       "      <td>-0.006793</td>\n",
       "      <td>0.100441</td>\n",
       "      <td>0.043158</td>\n",
       "      <td>...</td>\n",
       "      <td>-0.013166</td>\n",
       "      <td>0.006354</td>\n",
       "      <td>0.100178</td>\n",
       "      <td>0.083665</td>\n",
       "      <td>-0.010538</td>\n",
       "      <td>-0.094326</td>\n",
       "      <td>-0.071283</td>\n",
       "      <td>0.106201</td>\n",
       "      <td>0</td>\n",
       "      <td>0</td>\n",
       "    </tr>\n",
       "    <tr>\n",
       "      <th>2020-01-23 08:56:00</th>\n",
       "      <td>0.110202</td>\n",
       "      <td>-0.278002</td>\n",
       "      <td>-0.138825</td>\n",
       "      <td>0.169594</td>\n",
       "      <td>0.056677</td>\n",
       "      <td>-0.082294</td>\n",
       "      <td>-0.008428</td>\n",
       "      <td>0.012434</td>\n",
       "      <td>0.130233</td>\n",
       "      <td>0.166085</td>\n",
       "      <td>...</td>\n",
       "      <td>-0.015675</td>\n",
       "      <td>-0.162728</td>\n",
       "      <td>0.133477</td>\n",
       "      <td>0.292923</td>\n",
       "      <td>0.101574</td>\n",
       "      <td>-0.250131</td>\n",
       "      <td>-0.142645</td>\n",
       "      <td>-0.016696</td>\n",
       "      <td>0</td>\n",
       "      <td>0</td>\n",
       "    </tr>\n",
       "    <tr>\n",
       "      <th>2020-01-23 03:34:00</th>\n",
       "      <td>0.225870</td>\n",
       "      <td>-0.166002</td>\n",
       "      <td>0.040290</td>\n",
       "      <td>0.113796</td>\n",
       "      <td>0.211800</td>\n",
       "      <td>-0.018911</td>\n",
       "      <td>0.072391</td>\n",
       "      <td>0.006141</td>\n",
       "      <td>0.129353</td>\n",
       "      <td>0.117697</td>\n",
       "      <td>...</td>\n",
       "      <td>-0.011950</td>\n",
       "      <td>-0.004915</td>\n",
       "      <td>0.063183</td>\n",
       "      <td>0.209848</td>\n",
       "      <td>0.021897</td>\n",
       "      <td>-0.201821</td>\n",
       "      <td>-0.148373</td>\n",
       "      <td>0.015953</td>\n",
       "      <td>1</td>\n",
       "      <td>0</td>\n",
       "    </tr>\n",
       "    <tr>\n",
       "      <th>2020-01-20 08:32:00</th>\n",
       "      <td>0.295728</td>\n",
       "      <td>-0.223052</td>\n",
       "      <td>0.017726</td>\n",
       "      <td>0.229398</td>\n",
       "      <td>0.225802</td>\n",
       "      <td>0.042607</td>\n",
       "      <td>0.101522</td>\n",
       "      <td>0.011808</td>\n",
       "      <td>0.109016</td>\n",
       "      <td>0.094274</td>\n",
       "      <td>...</td>\n",
       "      <td>-0.002435</td>\n",
       "      <td>-0.085668</td>\n",
       "      <td>0.163477</td>\n",
       "      <td>0.365657</td>\n",
       "      <td>0.097690</td>\n",
       "      <td>-0.135934</td>\n",
       "      <td>-0.234329</td>\n",
       "      <td>0.059426</td>\n",
       "      <td>0</td>\n",
       "      <td>0</td>\n",
       "    </tr>\n",
       "    <tr>\n",
       "      <th>2020-01-23 12:28:00</th>\n",
       "      <td>0.157607</td>\n",
       "      <td>-0.163905</td>\n",
       "      <td>-0.048314</td>\n",
       "      <td>0.128537</td>\n",
       "      <td>0.003021</td>\n",
       "      <td>0.007202</td>\n",
       "      <td>0.015112</td>\n",
       "      <td>0.022043</td>\n",
       "      <td>0.082498</td>\n",
       "      <td>0.065426</td>\n",
       "      <td>...</td>\n",
       "      <td>0.102841</td>\n",
       "      <td>-0.036715</td>\n",
       "      <td>0.077600</td>\n",
       "      <td>0.228674</td>\n",
       "      <td>0.007062</td>\n",
       "      <td>-0.137238</td>\n",
       "      <td>-0.151757</td>\n",
       "      <td>0.073135</td>\n",
       "      <td>0</td>\n",
       "      <td>1</td>\n",
       "    </tr>\n",
       "  </tbody>\n",
       "</table>\n",
       "<p>5 rows × 202 columns</p>\n",
       "</div>"
      ],
      "text/plain": [
       "                            0         1         2         3         4  \\\n",
       "created_at                                                              \n",
       "2020-01-25 12:58:00  0.113078 -0.147917 -0.059400  0.178280  0.132715   \n",
       "2020-01-23 08:56:00  0.110202 -0.278002 -0.138825  0.169594  0.056677   \n",
       "2020-01-23 03:34:00  0.225870 -0.166002  0.040290  0.113796  0.211800   \n",
       "2020-01-20 08:32:00  0.295728 -0.223052  0.017726  0.229398  0.225802   \n",
       "2020-01-23 12:28:00  0.157607 -0.163905 -0.048314  0.128537  0.003021   \n",
       "\n",
       "                            5         6         7         8         9  ...  \\\n",
       "created_at                                                             ...   \n",
       "2020-01-25 12:58:00  0.000420 -0.000697 -0.006793  0.100441  0.043158  ...   \n",
       "2020-01-23 08:56:00 -0.082294 -0.008428  0.012434  0.130233  0.166085  ...   \n",
       "2020-01-23 03:34:00 -0.018911  0.072391  0.006141  0.129353  0.117697  ...   \n",
       "2020-01-20 08:32:00  0.042607  0.101522  0.011808  0.109016  0.094274  ...   \n",
       "2020-01-23 12:28:00  0.007202  0.015112  0.022043  0.082498  0.065426  ...   \n",
       "\n",
       "                          192       193       194       195       196  \\\n",
       "created_at                                                              \n",
       "2020-01-25 12:58:00 -0.013166  0.006354  0.100178  0.083665 -0.010538   \n",
       "2020-01-23 08:56:00 -0.015675 -0.162728  0.133477  0.292923  0.101574   \n",
       "2020-01-23 03:34:00 -0.011950 -0.004915  0.063183  0.209848  0.021897   \n",
       "2020-01-20 08:32:00 -0.002435 -0.085668  0.163477  0.365657  0.097690   \n",
       "2020-01-23 12:28:00  0.102841 -0.036715  0.077600  0.228674  0.007062   \n",
       "\n",
       "                          197       198       199  temp  related  \n",
       "created_at                                                        \n",
       "2020-01-25 12:58:00 -0.094326 -0.071283  0.106201     0        0  \n",
       "2020-01-23 08:56:00 -0.250131 -0.142645 -0.016696     0        0  \n",
       "2020-01-23 03:34:00 -0.201821 -0.148373  0.015953     1        0  \n",
       "2020-01-20 08:32:00 -0.135934 -0.234329  0.059426     0        0  \n",
       "2020-01-23 12:28:00 -0.137238 -0.151757  0.073135     0        1  \n",
       "\n",
       "[5 rows x 202 columns]"
      ]
     },
     "execution_count": 137,
     "metadata": {},
     "output_type": "execute_result"
    }
   ],
   "source": [
    "_1=pd.read_csv('无标签.csv')\n",
    "machine_data=pd.concat(vector_lst)\n",
    "machine_data['temp']=_1['Unnamed: 2'].values.tolist()\n",
    "machine_data['related']=_['related'].values.tolist()\n",
    "machine_data.head()"
   ]
  },
  {
   "cell_type": "code",
   "execution_count": 138,
   "metadata": {},
   "outputs": [],
   "source": [
    "machine_data.to_csv('论文数据/机器学习判别.csv')"
   ]
  },
  {
   "cell_type": "code",
   "execution_count": 227,
   "metadata": {},
   "outputs": [
    {
     "data": {
      "text/html": [
       "<div>\n",
       "<style scoped>\n",
       "    .dataframe tbody tr th:only-of-type {\n",
       "        vertical-align: middle;\n",
       "    }\n",
       "\n",
       "    .dataframe tbody tr th {\n",
       "        vertical-align: top;\n",
       "    }\n",
       "\n",
       "    .dataframe thead th {\n",
       "        text-align: right;\n",
       "    }\n",
       "</style>\n",
       "<table border=\"1\" class=\"dataframe\">\n",
       "  <thead>\n",
       "    <tr style=\"text-align: right;\">\n",
       "      <th></th>\n",
       "      <th>content</th>\n",
       "      <th>location_map_info</th>\n",
       "      <th>city</th>\n",
       "      <th>province</th>\n",
       "      <th>score</th>\n",
       "      <th>emotion_num</th>\n",
       "      <th>related</th>\n",
       "      <th>period</th>\n",
       "    </tr>\n",
       "    <tr>\n",
       "      <th>created_at</th>\n",
       "      <th></th>\n",
       "      <th></th>\n",
       "      <th></th>\n",
       "      <th></th>\n",
       "      <th></th>\n",
       "      <th></th>\n",
       "      <th></th>\n",
       "      <th></th>\n",
       "    </tr>\n",
       "  </thead>\n",
       "  <tbody>\n",
       "    <tr>\n",
       "      <th>2020-01-04 22:00:00</th>\n",
       "      <td></td>\n",
       "      <td>116.41606,39.91358</td>\n",
       "      <td>北京市</td>\n",
       "      <td>北京市</td>\n",
       "      <td>0.0</td>\n",
       "      <td>0</td>\n",
       "      <td>0</td>\n",
       "      <td>1</td>\n",
       "    </tr>\n",
       "    <tr>\n",
       "      <th>2020-01-07 12:27:00</th>\n",
       "      <td>一个人吃饭好难啊！</td>\n",
       "      <td>131.152542,44.412312</td>\n",
       "      <td>牡丹江市</td>\n",
       "      <td>黑龙江省</td>\n",
       "      <td>1.7</td>\n",
       "      <td>3</td>\n",
       "      <td>0</td>\n",
       "      <td>1</td>\n",
       "    </tr>\n",
       "    <tr>\n",
       "      <th>2020-01-07 18:44:00</th>\n",
       "      <td>❤️广州 hpv 9价❤️</td>\n",
       "      <td>113.318985,23.058409</td>\n",
       "      <td>广州市</td>\n",
       "      <td>广东省</td>\n",
       "      <td>3.1</td>\n",
       "      <td>3</td>\n",
       "      <td>0</td>\n",
       "      <td>1</td>\n",
       "    </tr>\n",
       "    <tr>\n",
       "      <th>2020-01-08 12:01:00</th>\n",
       "      <td>想了很久的糖葫芦，吃一口酸到吐🤮…</td>\n",
       "      <td>131.152542,44.412312</td>\n",
       "      <td>牡丹江市</td>\n",
       "      <td>黑龙江省</td>\n",
       "      <td>-2.6</td>\n",
       "      <td>4</td>\n",
       "      <td>0</td>\n",
       "      <td>1</td>\n",
       "    </tr>\n",
       "    <tr>\n",
       "      <th>2020-01-12 22:45:00</th>\n",
       "      <td>汉刺青1月18号开始休年假。 春节2月4号复工。 [抱拳][抱拳][抱拳]</td>\n",
       "      <td>121.458029,31.220428</td>\n",
       "      <td>上海市</td>\n",
       "      <td>上海市</td>\n",
       "      <td>2.0</td>\n",
       "      <td>9</td>\n",
       "      <td>0</td>\n",
       "      <td>1</td>\n",
       "    </tr>\n",
       "  </tbody>\n",
       "</table>\n",
       "</div>"
      ],
      "text/plain": [
       "                                                    content  \\\n",
       "created_at                                                    \n",
       "2020-01-04 22:00:00                                           \n",
       "2020-01-07 12:27:00                              一个人吃饭好难啊！    \n",
       "2020-01-07 18:44:00                      ❤️广州 hpv 9价❤️        \n",
       "2020-01-08 12:01:00                      想了很久的糖葫芦，吃一口酸到吐🤮…    \n",
       "2020-01-12 22:45:00  汉刺青1月18号开始休年假。 春节2月4号复工。 [抱拳][抱拳][抱拳]    \n",
       "\n",
       "                        location_map_info  city province  score  emotion_num  \\\n",
       "created_at                                                                     \n",
       "2020-01-04 22:00:00    116.41606,39.91358   北京市      北京市    0.0            0   \n",
       "2020-01-07 12:27:00  131.152542,44.412312  牡丹江市     黑龙江省    1.7            3   \n",
       "2020-01-07 18:44:00  113.318985,23.058409   广州市      广东省    3.1            3   \n",
       "2020-01-08 12:01:00  131.152542,44.412312  牡丹江市     黑龙江省   -2.6            4   \n",
       "2020-01-12 22:45:00  121.458029,31.220428   上海市      上海市    2.0            9   \n",
       "\n",
       "                     related  period  \n",
       "created_at                            \n",
       "2020-01-04 22:00:00        0       1  \n",
       "2020-01-07 12:27:00        0       1  \n",
       "2020-01-07 18:44:00        0       1  \n",
       "2020-01-08 12:01:00        0       1  \n",
       "2020-01-12 22:45:00        0       1  "
      ]
     },
     "execution_count": 227,
     "metadata": {},
     "output_type": "execute_result"
    }
   ],
   "source": [
    "# 第二套数据\n",
    "data_lst=[]\n",
    "vector_lst=[]\n",
    "for i in range(1,5):\n",
    "    np.random.seed(200)\n",
    "    _data=data[data.period==i]\n",
    "    _vector=vector[data.period==i]\n",
    "    num_th=np.random.randint(0,len(_data),size=100)\n",
    "    vector_lst.append(_vector.iloc[num_th.tolist(),:])\n",
    "    data_lst.append(_data.iloc[num_th.tolist(),:])\n",
    "_=pd.concat(data_lst,axis=0)\n",
    "_.head()"
   ]
  },
  {
   "cell_type": "code",
   "execution_count": 228,
   "metadata": {},
   "outputs": [
    {
     "data": {
      "text/html": [
       "<div>\n",
       "<style scoped>\n",
       "    .dataframe tbody tr th:only-of-type {\n",
       "        vertical-align: middle;\n",
       "    }\n",
       "\n",
       "    .dataframe tbody tr th {\n",
       "        vertical-align: top;\n",
       "    }\n",
       "\n",
       "    .dataframe thead th {\n",
       "        text-align: right;\n",
       "    }\n",
       "</style>\n",
       "<table border=\"1\" class=\"dataframe\">\n",
       "  <thead>\n",
       "    <tr style=\"text-align: right;\">\n",
       "      <th></th>\n",
       "      <th>0</th>\n",
       "      <th>1</th>\n",
       "      <th>2</th>\n",
       "      <th>3</th>\n",
       "      <th>4</th>\n",
       "      <th>5</th>\n",
       "      <th>6</th>\n",
       "      <th>7</th>\n",
       "      <th>8</th>\n",
       "      <th>9</th>\n",
       "      <th>...</th>\n",
       "      <th>192</th>\n",
       "      <th>193</th>\n",
       "      <th>194</th>\n",
       "      <th>195</th>\n",
       "      <th>196</th>\n",
       "      <th>197</th>\n",
       "      <th>198</th>\n",
       "      <th>199</th>\n",
       "      <th>temp</th>\n",
       "      <th>related</th>\n",
       "    </tr>\n",
       "    <tr>\n",
       "      <th>created_at</th>\n",
       "      <th></th>\n",
       "      <th></th>\n",
       "      <th></th>\n",
       "      <th></th>\n",
       "      <th></th>\n",
       "      <th></th>\n",
       "      <th></th>\n",
       "      <th></th>\n",
       "      <th></th>\n",
       "      <th></th>\n",
       "      <th></th>\n",
       "      <th></th>\n",
       "      <th></th>\n",
       "      <th></th>\n",
       "      <th></th>\n",
       "      <th></th>\n",
       "      <th></th>\n",
       "      <th></th>\n",
       "      <th></th>\n",
       "      <th></th>\n",
       "      <th></th>\n",
       "    </tr>\n",
       "  </thead>\n",
       "  <tbody>\n",
       "    <tr>\n",
       "      <th>2020-01-04 22:00:00</th>\n",
       "      <td>NaN</td>\n",
       "      <td>NaN</td>\n",
       "      <td>NaN</td>\n",
       "      <td>NaN</td>\n",
       "      <td>NaN</td>\n",
       "      <td>NaN</td>\n",
       "      <td>NaN</td>\n",
       "      <td>NaN</td>\n",
       "      <td>NaN</td>\n",
       "      <td>NaN</td>\n",
       "      <td>...</td>\n",
       "      <td>NaN</td>\n",
       "      <td>NaN</td>\n",
       "      <td>NaN</td>\n",
       "      <td>NaN</td>\n",
       "      <td>NaN</td>\n",
       "      <td>NaN</td>\n",
       "      <td>NaN</td>\n",
       "      <td>NaN</td>\n",
       "      <td>0</td>\n",
       "      <td>0</td>\n",
       "    </tr>\n",
       "    <tr>\n",
       "      <th>2020-01-07 12:27:00</th>\n",
       "      <td>0.209975</td>\n",
       "      <td>-0.306662</td>\n",
       "      <td>-0.015880</td>\n",
       "      <td>0.088588</td>\n",
       "      <td>0.088637</td>\n",
       "      <td>-0.036426</td>\n",
       "      <td>-0.000269</td>\n",
       "      <td>0.079854</td>\n",
       "      <td>0.161293</td>\n",
       "      <td>0.026593</td>\n",
       "      <td>...</td>\n",
       "      <td>-0.129182</td>\n",
       "      <td>-0.111271</td>\n",
       "      <td>0.155557</td>\n",
       "      <td>0.378557</td>\n",
       "      <td>-0.055901</td>\n",
       "      <td>-0.213752</td>\n",
       "      <td>-0.189623</td>\n",
       "      <td>0.082097</td>\n",
       "      <td>0</td>\n",
       "      <td>0</td>\n",
       "    </tr>\n",
       "    <tr>\n",
       "      <th>2020-01-07 18:44:00</th>\n",
       "      <td>0.066851</td>\n",
       "      <td>-0.176622</td>\n",
       "      <td>-0.050371</td>\n",
       "      <td>0.068808</td>\n",
       "      <td>0.055876</td>\n",
       "      <td>-0.016443</td>\n",
       "      <td>0.039084</td>\n",
       "      <td>0.102588</td>\n",
       "      <td>-0.028842</td>\n",
       "      <td>0.022864</td>\n",
       "      <td>...</td>\n",
       "      <td>0.051374</td>\n",
       "      <td>-0.027768</td>\n",
       "      <td>0.045499</td>\n",
       "      <td>0.159299</td>\n",
       "      <td>0.048267</td>\n",
       "      <td>-0.097481</td>\n",
       "      <td>-0.035512</td>\n",
       "      <td>-0.007728</td>\n",
       "      <td>0</td>\n",
       "      <td>0</td>\n",
       "    </tr>\n",
       "    <tr>\n",
       "      <th>2020-01-08 12:01:00</th>\n",
       "      <td>0.078945</td>\n",
       "      <td>-0.146531</td>\n",
       "      <td>-0.029834</td>\n",
       "      <td>0.052599</td>\n",
       "      <td>0.026693</td>\n",
       "      <td>-0.018519</td>\n",
       "      <td>0.032179</td>\n",
       "      <td>-0.019988</td>\n",
       "      <td>0.149954</td>\n",
       "      <td>0.082876</td>\n",
       "      <td>...</td>\n",
       "      <td>-0.019073</td>\n",
       "      <td>-0.042302</td>\n",
       "      <td>0.039315</td>\n",
       "      <td>0.250804</td>\n",
       "      <td>0.010130</td>\n",
       "      <td>-0.061564</td>\n",
       "      <td>-0.125393</td>\n",
       "      <td>0.044364</td>\n",
       "      <td>0</td>\n",
       "      <td>0</td>\n",
       "    </tr>\n",
       "    <tr>\n",
       "      <th>2020-01-12 22:45:00</th>\n",
       "      <td>0.229496</td>\n",
       "      <td>-0.150132</td>\n",
       "      <td>-0.037659</td>\n",
       "      <td>0.299816</td>\n",
       "      <td>0.132153</td>\n",
       "      <td>-0.067479</td>\n",
       "      <td>0.149344</td>\n",
       "      <td>0.146940</td>\n",
       "      <td>-0.067626</td>\n",
       "      <td>0.154269</td>\n",
       "      <td>...</td>\n",
       "      <td>0.015781</td>\n",
       "      <td>-0.192042</td>\n",
       "      <td>0.082874</td>\n",
       "      <td>0.418648</td>\n",
       "      <td>-0.029192</td>\n",
       "      <td>-0.080364</td>\n",
       "      <td>-0.197405</td>\n",
       "      <td>-0.013136</td>\n",
       "      <td>0</td>\n",
       "      <td>0</td>\n",
       "    </tr>\n",
       "  </tbody>\n",
       "</table>\n",
       "<p>5 rows × 202 columns</p>\n",
       "</div>"
      ],
      "text/plain": [
       "                            0         1         2         3         4  \\\n",
       "created_at                                                              \n",
       "2020-01-04 22:00:00       NaN       NaN       NaN       NaN       NaN   \n",
       "2020-01-07 12:27:00  0.209975 -0.306662 -0.015880  0.088588  0.088637   \n",
       "2020-01-07 18:44:00  0.066851 -0.176622 -0.050371  0.068808  0.055876   \n",
       "2020-01-08 12:01:00  0.078945 -0.146531 -0.029834  0.052599  0.026693   \n",
       "2020-01-12 22:45:00  0.229496 -0.150132 -0.037659  0.299816  0.132153   \n",
       "\n",
       "                            5         6         7         8         9  ...  \\\n",
       "created_at                                                             ...   \n",
       "2020-01-04 22:00:00       NaN       NaN       NaN       NaN       NaN  ...   \n",
       "2020-01-07 12:27:00 -0.036426 -0.000269  0.079854  0.161293  0.026593  ...   \n",
       "2020-01-07 18:44:00 -0.016443  0.039084  0.102588 -0.028842  0.022864  ...   \n",
       "2020-01-08 12:01:00 -0.018519  0.032179 -0.019988  0.149954  0.082876  ...   \n",
       "2020-01-12 22:45:00 -0.067479  0.149344  0.146940 -0.067626  0.154269  ...   \n",
       "\n",
       "                          192       193       194       195       196  \\\n",
       "created_at                                                              \n",
       "2020-01-04 22:00:00       NaN       NaN       NaN       NaN       NaN   \n",
       "2020-01-07 12:27:00 -0.129182 -0.111271  0.155557  0.378557 -0.055901   \n",
       "2020-01-07 18:44:00  0.051374 -0.027768  0.045499  0.159299  0.048267   \n",
       "2020-01-08 12:01:00 -0.019073 -0.042302  0.039315  0.250804  0.010130   \n",
       "2020-01-12 22:45:00  0.015781 -0.192042  0.082874  0.418648 -0.029192   \n",
       "\n",
       "                          197       198       199  temp  related  \n",
       "created_at                                                        \n",
       "2020-01-04 22:00:00       NaN       NaN       NaN     0        0  \n",
       "2020-01-07 12:27:00 -0.213752 -0.189623  0.082097     0        0  \n",
       "2020-01-07 18:44:00 -0.097481 -0.035512 -0.007728     0        0  \n",
       "2020-01-08 12:01:00 -0.061564 -0.125393  0.044364     0        0  \n",
       "2020-01-12 22:45:00 -0.080364 -0.197405 -0.013136     0        0  \n",
       "\n",
       "[5 rows x 202 columns]"
      ]
     },
     "execution_count": 228,
     "metadata": {},
     "output_type": "execute_result"
    }
   ],
   "source": [
    "_2=pd.read_csv('无标签2.csv')\n",
    "machine_data2=pd.concat(vector_lst)\n",
    "machine_data2['temp']=_2['Unnamed: 2'].values.tolist()\n",
    "machine_data2['related']=_['related'].values.tolist()\n",
    "machine_data2.head()"
   ]
  },
  {
   "cell_type": "code",
   "execution_count": 241,
   "metadata": {},
   "outputs": [],
   "source": [
    "machine_data2.to_csv('论文数据/机器学习判别2.csv')"
   ]
  },
  {
   "cell_type": "markdown",
   "metadata": {},
   "source": [
    "# 读取数据"
   ]
  },
  {
   "cell_type": "code",
   "execution_count": 244,
   "metadata": {},
   "outputs": [],
   "source": [
    "machine_data=pd.read_csv('论文数据/机器学习判别.csv',index_col=['created_at'],parse_dates=True)\n",
    "machine_data2=pd.read_csv('论文数据/机器学习判别2.csv',index_col=['created_at'],parse_dates=True)\n",
    "machine_data=pd.concat([machine_data,machine_data2],axis=0)\n",
    "machine_data.dropna(inplace=True)\n",
    "machine_data['temp'].replace(11,1,inplace=True)"
   ]
  },
  {
   "cell_type": "code",
   "execution_count": 245,
   "metadata": {},
   "outputs": [
    {
     "data": {
      "text/plain": [
       "0.6810865191146881"
      ]
     },
     "execution_count": 245,
     "metadata": {},
     "output_type": "execute_result"
    }
   ],
   "source": [
    "machine_data['related'].mean()"
   ]
  },
  {
   "cell_type": "markdown",
   "metadata": {},
   "source": [
    "# 降维"
   ]
  },
  {
   "cell_type": "code",
   "execution_count": 246,
   "metadata": {},
   "outputs": [
    {
     "data": {
      "text/plain": [
       "0.7922121169700745"
      ]
     },
     "execution_count": 246,
     "metadata": {},
     "output_type": "execute_result"
    }
   ],
   "source": [
    "pca=PCA(n_components=50)\n",
    "X=pca.fit_transform(machine_data.values[:,:-2])\n",
    "pca.explained_variance_ratio_.sum()"
   ]
  },
  {
   "cell_type": "code",
   "execution_count": 280,
   "metadata": {},
   "outputs": [],
   "source": [
    "y=machine_data.iloc[:,-2]\n",
    "y1=machine_data.iloc[:,-1]"
   ]
  },
  {
   "cell_type": "code",
   "execution_count": 248,
   "metadata": {},
   "outputs": [],
   "source": [
    "Xtrain,Xtest,ytrain,ytest=train_test_split(X,y,test_size=0.3,random_state=32)\n",
    "Xtrain1,Xtest1,ytrain1,ytest1=train_test_split(X,y1,test_size=0.3,random_state=32)"
   ]
  },
  {
   "cell_type": "markdown",
   "metadata": {},
   "source": [
    "## SVM训练基于ROC"
   ]
  },
  {
   "cell_type": "code",
   "execution_count": 249,
   "metadata": {},
   "outputs": [
    {
     "data": {
      "text/plain": [
       "0.8805755395683453"
      ]
     },
     "execution_count": 249,
     "metadata": {},
     "output_type": "execute_result"
    },
    {
     "data": {
      "text/plain": [
       "0.7784172661870503"
      ]
     },
     "execution_count": 249,
     "metadata": {},
     "output_type": "execute_result"
    },
    {
     "data": {
      "text/plain": [
       "0.6575539568345323"
      ]
     },
     "execution_count": 249,
     "metadata": {},
     "output_type": "execute_result"
    },
    {
     "name": "stdout",
     "output_type": "stream",
     "text": [
      "__________________________________\n"
     ]
    },
    {
     "data": {
      "text/plain": [
       "0.7792642140468228"
      ]
     },
     "execution_count": 249,
     "metadata": {},
     "output_type": "execute_result"
    },
    {
     "data": {
      "text/plain": [
       "0.7692307692307693"
      ]
     },
     "execution_count": 249,
     "metadata": {},
     "output_type": "execute_result"
    },
    {
     "data": {
      "text/plain": [
       "0.6387959866220736"
      ]
     },
     "execution_count": 249,
     "metadata": {},
     "output_type": "execute_result"
    }
   ],
   "source": [
    "# %%time\n",
    "\n",
    "model=svm.SVC(probability=True)\n",
    "model=model.fit(Xtrain,ytrain)\n",
    "\n",
    "accuracy_score(ytrain,model.predict(Xtrain))\n",
    "accuracy_score(ytrain,ytrain1)\n",
    "ytrain.mean()\n",
    "print('__________________________________')\n",
    "accuracy_score(ytest,model.predict(Xtest))\n",
    "accuracy_score(ytest,ytest1)\n",
    "ytest.mean()"
   ]
  },
  {
   "cell_type": "markdown",
   "metadata": {},
   "source": [
    "## DummyClass"
   ]
  },
  {
   "cell_type": "code",
   "execution_count": 168,
   "metadata": {},
   "outputs": [
    {
     "data": {
      "text/plain": [
       "0.5611111111111111"
      ]
     },
     "execution_count": 168,
     "metadata": {},
     "output_type": "execute_result"
    }
   ],
   "source": [
    "dum=DummyClassifier()\n",
    "dum=dum.fit(Xtrain,ytrain)\n",
    "accuracy_score(ytest,dum.predict(Xtest))"
   ]
  },
  {
   "cell_type": "markdown",
   "metadata": {},
   "source": [
    "## gamma"
   ]
  },
  {
   "cell_type": "code",
   "execution_count": 253,
   "metadata": {},
   "outputs": [
    {
     "data": {
      "text/plain": [
       "0.782608695652174"
      ]
     },
     "execution_count": 253,
     "metadata": {},
     "output_type": "execute_result"
    },
    {
     "data": {
      "text/plain": [
       "0.8187415163854954"
      ]
     },
     "execution_count": 253,
     "metadata": {},
     "output_type": "execute_result"
    }
   ],
   "source": [
    "gamma_range = np.linspace(1, 3, 25)\n",
    "roc_lst=[]\n",
    "acc_lst=[]\n",
    "for i in gamma_range:\n",
    "    clf= svm.SVC(kernel = 'rbf',probability=True,gamma=i).fit(Xtrain,ytrain)\n",
    "    roc_lst.append(roc_auc_score(ytest,clf.predict_proba(Xtest)[:,1]))\n",
    "    acc_lst.append(accuracy_score(ytest,clf.predict(Xtest)))\n",
    "max(acc_lst)\n",
    "max(roc_lst)"
   ]
  },
  {
   "cell_type": "code",
   "execution_count": 255,
   "metadata": {},
   "outputs": [
    {
     "data": {
      "text/plain": [
       "3"
      ]
     },
     "execution_count": 255,
     "metadata": {},
     "output_type": "execute_result"
    },
    {
     "data": {
      "text/plain": [
       "1.25"
      ]
     },
     "execution_count": 255,
     "metadata": {},
     "output_type": "execute_result"
    },
    {
     "data": {
      "text/plain": [
       "1"
      ]
     },
     "execution_count": 255,
     "metadata": {},
     "output_type": "execute_result"
    },
    {
     "data": {
      "text/plain": [
       "[<matplotlib.lines.Line2D at 0x1a21aef2e48>]"
      ]
     },
     "execution_count": 255,
     "metadata": {},
     "output_type": "execute_result"
    },
    {
     "data": {
      "text/plain": [
       "25"
      ]
     },
     "execution_count": 255,
     "metadata": {},
     "output_type": "execute_result"
    },
    {
     "data": {
      "image/png": "[encoded data removed]",
      "text/plain": [
       "<Figure size 432x288 with 1 Axes>"
      ]
     },
     "metadata": {
      "needs_background": "light"
     },
     "output_type": "display_data"
    }
   ],
   "source": [
    "th=acc_lst.index(max(acc_lst))\n",
    "th\n",
    "gamma_range[th]\n",
    "roc_lst.index(max(roc_lst))\n",
    "plt.plot(gamma_range,acc_lst)\n",
    "len(gamma_range)"
   ]
  },
  {
   "cell_type": "markdown",
   "metadata": {},
   "source": [
    "## C惩罚项"
   ]
  },
  {
   "cell_type": "code",
   "execution_count": 256,
   "metadata": {},
   "outputs": [
    {
     "data": {
      "text/plain": [
       "0.7926421404682275"
      ]
     },
     "execution_count": 256,
     "metadata": {},
     "output_type": "execute_result"
    },
    {
     "data": {
      "text/plain": [
       "0.8176992437463642"
      ]
     },
     "execution_count": 256,
     "metadata": {},
     "output_type": "execute_result"
    }
   ],
   "source": [
    "C_range = np.linspace(1,5,10)\n",
    "roc_lst=[]\n",
    "acc_lst=[]\n",
    "for i in C_range:\n",
    "    clf= svm.SVC(kernel = 'rbf',probability=True,C=i,gamma=1.25).fit(Xtrain,ytrain)\n",
    "    roc_lst.append(roc_auc_score(ytest,clf.predict_proba(Xtest)[:,1]))\n",
    "    acc_lst.append(accuracy_score(ytest,clf.predict(Xtest)))\n",
    "max(acc_lst)\n",
    "max(roc_lst)"
   ]
  },
  {
   "cell_type": "code",
   "execution_count": 257,
   "metadata": {},
   "outputs": [
    {
     "data": {
      "text/plain": [
       "1.4444444444444444"
      ]
     },
     "execution_count": 257,
     "metadata": {},
     "output_type": "execute_result"
    },
    {
     "data": {
      "text/plain": [
       "1.0"
      ]
     },
     "execution_count": 257,
     "metadata": {},
     "output_type": "execute_result"
    },
    {
     "data": {
      "text/plain": [
       "[<matplotlib.lines.Line2D at 0x1a21b019ec8>]"
      ]
     },
     "execution_count": 257,
     "metadata": {},
     "output_type": "execute_result"
    },
    {
     "data": {
      "text/plain": [
       "[<matplotlib.lines.Line2D at 0x1a21ada8208>]"
      ]
     },
     "execution_count": 257,
     "metadata": {},
     "output_type": "execute_result"
    },
    {
     "data": {
      "text/plain": [
       "<matplotlib.legend.Legend at 0x1a21b024a08>"
      ]
     },
     "execution_count": 257,
     "metadata": {},
     "output_type": "execute_result"
    },
    {
     "data": {
      "image/png": "[encoded data removed]",
      "text/plain": [
       "<Figure size 432x288 with 1 Axes>"
      ]
     },
     "metadata": {
      "needs_background": "light"
     },
     "output_type": "display_data"
    }
   ],
   "source": [
    "C_range[np.argmax(acc_lst)]\n",
    "C_range[np.argmax(roc_lst)]\n",
    "plt.plot(C_range,acc_lst,'C1',label='acc')\n",
    "plt.plot(C_range,roc_lst,'C2',label='roc')\n",
    "plt.legend()"
   ]
  },
  {
   "cell_type": "markdown",
   "metadata": {},
   "source": [
    "## 所有指标"
   ]
  },
  {
   "cell_type": "code",
   "execution_count": 281,
   "metadata": {},
   "outputs": [],
   "source": [
    "y2=[1]*len(y)"
   ]
  },
  {
   "cell_type": "code",
   "execution_count": 286,
   "metadata": {},
   "outputs": [
    {
     "name": "stdout",
     "output_type": "stream",
     "text": [
      "acc\n"
     ]
    },
    {
     "data": {
      "text/plain": [
       "0.8906474820143885"
      ]
     },
     "execution_count": 286,
     "metadata": {},
     "output_type": "execute_result"
    },
    {
     "data": {
      "text/plain": [
       "0.7926421404682275"
      ]
     },
     "execution_count": 286,
     "metadata": {},
     "output_type": "execute_result"
    },
    {
     "data": {
      "text/plain": [
       "0.7756539235412475"
      ]
     },
     "execution_count": 286,
     "metadata": {},
     "output_type": "execute_result"
    },
    {
     "data": {
      "text/plain": [
       "0.6519114688128773"
      ]
     },
     "execution_count": 286,
     "metadata": {},
     "output_type": "execute_result"
    },
    {
     "name": "stdout",
     "output_type": "stream",
     "text": [
      "roc\n"
     ]
    },
    {
     "data": {
      "text/plain": [
       "0.9571787139363405"
      ]
     },
     "execution_count": 286,
     "metadata": {},
     "output_type": "execute_result"
    },
    {
     "data": {
      "text/plain": [
       "0.8161721931355439"
      ]
     },
     "execution_count": 286,
     "metadata": {},
     "output_type": "execute_result"
    },
    {
     "name": "stdout",
     "output_type": "stream",
     "text": [
      "f1\n"
     ]
    },
    {
     "data": {
      "text/plain": [
       "0.921161825726141"
      ]
     },
     "execution_count": 286,
     "metadata": {},
     "output_type": "execute_result"
    },
    {
     "data": {
      "text/plain": [
       "0.845"
      ]
     },
     "execution_count": 286,
     "metadata": {},
     "output_type": "execute_result"
    },
    {
     "data": {
      "text/plain": [
       "0.8316981132075472"
      ]
     },
     "execution_count": 286,
     "metadata": {},
     "output_type": "execute_result"
    },
    {
     "data": {
      "text/plain": [
       "0.7892813641900123"
      ]
     },
     "execution_count": 286,
     "metadata": {},
     "output_type": "execute_result"
    },
    {
     "name": "stdout",
     "output_type": "stream",
     "text": [
      "recall\n"
     ]
    },
    {
     "data": {
      "text/plain": [
       "0.9715536105032823"
      ]
     },
     "execution_count": 286,
     "metadata": {},
     "output_type": "execute_result"
    },
    {
     "data": {
      "text/plain": [
       "0.8848167539267016"
      ]
     },
     "execution_count": 286,
     "metadata": {},
     "output_type": "execute_result"
    },
    {
     "data": {
      "text/plain": [
       "0.8503086419753086"
      ]
     },
     "execution_count": 286,
     "metadata": {},
     "output_type": "execute_result"
    },
    {
     "data": {
      "text/plain": [
       "1.0"
      ]
     },
     "execution_count": 286,
     "metadata": {},
     "output_type": "execute_result"
    },
    {
     "name": "stdout",
     "output_type": "stream",
     "text": [
      "cross\n"
     ]
    },
    {
     "data": {
      "text/plain": [
       "0.7947676767676768"
      ]
     },
     "execution_count": 286,
     "metadata": {},
     "output_type": "execute_result"
    },
    {
     "data": {
      "text/plain": [
       "0.8478515675500968"
      ]
     },
     "execution_count": 286,
     "metadata": {},
     "output_type": "execute_result"
    },
    {
     "data": {
      "text/plain": [
       "0.8496444507632817"
      ]
     },
     "execution_count": 286,
     "metadata": {},
     "output_type": "execute_result"
    },
    {
     "data": {
      "text/plain": [
       "0.893389423076923"
      ]
     },
     "execution_count": 286,
     "metadata": {},
     "output_type": "execute_result"
    }
   ],
   "source": [
    "model=svm.SVC(kernel = 'rbf',probability=True,C=1.444,gamma=1.25)\n",
    "model=model.fit(Xtrain,ytrain)\n",
    "print('acc')\n",
    "accuracy_score(ytrain,model.predict(Xtrain))\n",
    "accuracy_score(ytest,model.predict(Xtest))\n",
    "accuracy_score(y,y1)\n",
    "accuracy_score(y,y2)\n",
    "print('roc')\n",
    "roc_auc_score(ytrain,model.predict_proba(Xtrain)[:,1])\n",
    "roc_auc_score(ytest,model.predict_proba(Xtest)[:,1])\n",
    "print('f1')\n",
    "f1_score(ytrain,model.predict(Xtrain))\n",
    "f1_score(ytest,model.predict(Xtest))\n",
    "f1_score(y,y1)\n",
    "f1_score(y,y2)\n",
    "print('recall')\n",
    "recall_score(ytrain,model.predict(Xtrain))\n",
    "recall_score(ytest,model.predict(Xtest))\n",
    "recall_score(y,y1)\n",
    "recall_score(y,y2)\n",
    "print('cross')\n",
    "cross_val_score(model,X,y,cv=10,scoring='accuracy').mean()\n",
    "cross_val_score(model,X,y,cv=10,scoring='roc_auc').mean()\n",
    "cross_val_score(model,X,y,cv=10,scoring='f1').mean()\n",
    "cross_val_score(model,X,y,cv=10,scoring='recall').mean()"
   ]
  },
  {
   "cell_type": "code",
   "execution_count": 287,
   "metadata": {},
   "outputs": [
    {
     "name": "stdout",
     "output_type": "stream",
     "text": [
      "acc\n"
     ]
    },
    {
     "data": {
      "text/plain": [
       "0.7947676767676768"
      ]
     },
     "execution_count": 287,
     "metadata": {},
     "output_type": "execute_result"
    },
    {
     "data": {
      "text/plain": [
       "0.7756539235412475"
      ]
     },
     "execution_count": 287,
     "metadata": {},
     "output_type": "execute_result"
    },
    {
     "data": {
      "text/plain": [
       "0.6519114688128773"
      ]
     },
     "execution_count": 287,
     "metadata": {},
     "output_type": "execute_result"
    },
    {
     "name": "stdout",
     "output_type": "stream",
     "text": [
      "f1\n"
     ]
    },
    {
     "data": {
      "text/plain": [
       "0.8496444507632817"
      ]
     },
     "execution_count": 287,
     "metadata": {},
     "output_type": "execute_result"
    },
    {
     "data": {
      "text/plain": [
       "0.8316981132075472"
      ]
     },
     "execution_count": 287,
     "metadata": {},
     "output_type": "execute_result"
    },
    {
     "data": {
      "text/plain": [
       "0.7892813641900123"
      ]
     },
     "execution_count": 287,
     "metadata": {},
     "output_type": "execute_result"
    },
    {
     "name": "stdout",
     "output_type": "stream",
     "text": [
      "recall\n"
     ]
    },
    {
     "data": {
      "text/plain": [
       "0.893389423076923"
      ]
     },
     "execution_count": 287,
     "metadata": {},
     "output_type": "execute_result"
    },
    {
     "data": {
      "text/plain": [
       "0.8503086419753086"
      ]
     },
     "execution_count": 287,
     "metadata": {},
     "output_type": "execute_result"
    },
    {
     "data": {
      "text/plain": [
       "1.0"
      ]
     },
     "execution_count": 287,
     "metadata": {},
     "output_type": "execute_result"
    }
   ],
   "source": [
    "model=svm.SVC(kernel = 'rbf',probability=True,C=1.444,gamma=1.25)\n",
    "model=model.fit(Xtrain,ytrain)\n",
    "print('acc')\n",
    "cross_val_score(model,X,y,cv=10,scoring='accuracy').mean()\n",
    "accuracy_score(y,y1)\n",
    "accuracy_score(y,y2)\n",
    "\n",
    "print('f1')\n",
    "cross_val_score(model,X,y,cv=10,scoring='f1').mean()\n",
    "f1_score(y,y1)\n",
    "f1_score(y,y2)\n",
    "\n",
    "print('recall')\n",
    "cross_val_score(model,X,y,cv=10,scoring='recall').mean()\n",
    "recall_score(y,y1)\n",
    "recall_score(y,y2)"
   ]
  },
  {
   "cell_type": "markdown",
   "metadata": {},
   "source": [
    "# 最终分类数据集"
   ]
  },
  {
   "cell_type": "code",
   "execution_count": 335,
   "metadata": {},
   "outputs": [],
   "source": [
    "null_condition=[len(i)!=0 for i in sequences]"
   ]
  },
  {
   "cell_type": "code",
   "execution_count": 338,
   "metadata": {},
   "outputs": [
    {
     "data": {
      "text/plain": [
       "0.741581073728724"
      ]
     },
     "execution_count": 338,
     "metadata": {},
     "output_type": "execute_result"
    }
   ],
   "source": [
    "pca=PCA(n_components=50)\n",
    "X_all=pca.fit_transform(content_vetor[null_condition])\n",
    "pca.explained_variance_ratio_.sum()"
   ]
  },
  {
   "cell_type": "code",
   "execution_count": 342,
   "metadata": {},
   "outputs": [
    {
     "data": {
      "text/plain": [
       "SVC(C=1.444, break_ties=False, cache_size=200, class_weight=None, coef0=0.0,\n",
       "    decision_function_shape='ovr', degree=3, gamma=1.25, kernel='rbf',\n",
       "    max_iter=-1, probability=True, random_state=None, shrinking=True, tol=0.001,\n",
       "    verbose=False)"
      ]
     },
     "execution_count": 342,
     "metadata": {},
     "output_type": "execute_result"
    }
   ],
   "source": [
    "model=svm.SVC(kernel = 'rbf',probability=True,C=1.444,gamma=1.25)\n",
    "model.fit(X,y)\n",
    "y_all=model.predict(X_all)"
   ]
  },
  {
   "cell_type": "code",
   "execution_count": 344,
   "metadata": {},
   "outputs": [],
   "source": [
    "data=df[null_condition]\n",
    "data['machine']=y_all\n",
    "data.to_csv('论文数据/机器学习最终数据.csv')"
   ]
  },
  {
   "cell_type": "markdown",
   "metadata": {},
   "source": [
    "# 模型集合预测"
   ]
  },
  {
   "cell_type": "code",
   "execution_count": 276,
   "metadata": {},
   "outputs": [
    {
     "name": "stdout",
     "output_type": "stream",
     "text": [
      "Wall time: 25 s\n"
     ]
    },
    {
     "data": {
      "text/html": [
       "<div>\n",
       "<style scoped>\n",
       "    .dataframe tbody tr th:only-of-type {\n",
       "        vertical-align: middle;\n",
       "    }\n",
       "\n",
       "    .dataframe tbody tr th {\n",
       "        vertical-align: top;\n",
       "    }\n",
       "\n",
       "    .dataframe thead th {\n",
       "        text-align: right;\n",
       "    }\n",
       "</style>\n",
       "<table border=\"1\" class=\"dataframe\">\n",
       "  <thead>\n",
       "    <tr style=\"text-align: right;\">\n",
       "      <th></th>\n",
       "      <th>MLA Name</th>\n",
       "      <th>MLA Parameters</th>\n",
       "      <th>MLA Train Accuracy Mean</th>\n",
       "      <th>MLA Test Accuracy Mean</th>\n",
       "      <th>MLA Test Accuracy 3*STD</th>\n",
       "      <th>MLA Time</th>\n",
       "      <th>Keys_train</th>\n",
       "      <th>Keys_test</th>\n",
       "    </tr>\n",
       "  </thead>\n",
       "  <tbody>\n",
       "    <tr>\n",
       "      <th>14</th>\n",
       "      <td>SVC</td>\n",
       "      <td>{'C': 1.444, 'break_ties': False, 'cache_size'...</td>\n",
       "      <td>0.88446</td>\n",
       "      <td>0.795318</td>\n",
       "      <td>0.0591548</td>\n",
       "      <td>0.109511</td>\n",
       "      <td>0.778417</td>\n",
       "      <td>0.769231</td>\n",
       "    </tr>\n",
       "    <tr>\n",
       "      <th>15</th>\n",
       "      <td>NuSVC</td>\n",
       "      <td>{'break_ties': False, 'cache_size': 200, 'clas...</td>\n",
       "      <td>0.893094</td>\n",
       "      <td>0.78495</td>\n",
       "      <td>0.0489587</td>\n",
       "      <td>0.0265274</td>\n",
       "      <td>0.778417</td>\n",
       "      <td>0.769231</td>\n",
       "    </tr>\n",
       "    <tr>\n",
       "      <th>6</th>\n",
       "      <td>LogisticRegressionCV</td>\n",
       "      <td>{'Cs': 10, 'class_weight': None, 'cv': None, '...</td>\n",
       "      <td>0.80705</td>\n",
       "      <td>0.770234</td>\n",
       "      <td>0.0741457</td>\n",
       "      <td>0.296018</td>\n",
       "      <td>0.778417</td>\n",
       "      <td>0.769231</td>\n",
       "    </tr>\n",
       "    <tr>\n",
       "      <th>9</th>\n",
       "      <td>SGDClassifier</td>\n",
       "      <td>{'alpha': 0.0001, 'average': False, 'class_wei...</td>\n",
       "      <td>0.788058</td>\n",
       "      <td>0.762876</td>\n",
       "      <td>0.0376622</td>\n",
       "      <td>0.00371337</td>\n",
       "      <td>0.778417</td>\n",
       "      <td>0.769231</td>\n",
       "    </tr>\n",
       "    <tr>\n",
       "      <th>19</th>\n",
       "      <td>LinearDiscriminantAnalysis</td>\n",
       "      <td>{'n_components': None, 'priors': None, 'shrink...</td>\n",
       "      <td>0.801871</td>\n",
       "      <td>0.762876</td>\n",
       "      <td>0.0811965</td>\n",
       "      <td>0.00588443</td>\n",
       "      <td>0.778417</td>\n",
       "      <td>0.769231</td>\n",
       "    </tr>\n",
       "    <tr>\n",
       "      <th>5</th>\n",
       "      <td>GaussianProcessClassifier</td>\n",
       "      <td>{'copy_X_train': True, 'kernel': None, 'max_it...</td>\n",
       "      <td>0.797554</td>\n",
       "      <td>0.762542</td>\n",
       "      <td>0.0726299</td>\n",
       "      <td>0.25024</td>\n",
       "      <td>0.778417</td>\n",
       "      <td>0.769231</td>\n",
       "    </tr>\n",
       "    <tr>\n",
       "      <th>16</th>\n",
       "      <td>LinearSVC</td>\n",
       "      <td>{'C': 1.0, 'class_weight': None, 'dual': True,...</td>\n",
       "      <td>0.800288</td>\n",
       "      <td>0.761538</td>\n",
       "      <td>0.0674633</td>\n",
       "      <td>0.00816352</td>\n",
       "      <td>0.778417</td>\n",
       "      <td>0.769231</td>\n",
       "    </tr>\n",
       "    <tr>\n",
       "      <th>8</th>\n",
       "      <td>RidgeClassifier</td>\n",
       "      <td>{'alpha': 1.0, 'class_weight': None, 'copy_X':...</td>\n",
       "      <td>0.797122</td>\n",
       "      <td>0.761204</td>\n",
       "      <td>0.0449158</td>\n",
       "      <td>0.00207245</td>\n",
       "      <td>0.778417</td>\n",
       "      <td>0.769231</td>\n",
       "    </tr>\n",
       "    <tr>\n",
       "      <th>3</th>\n",
       "      <td>GradientBoostingClassifier</td>\n",
       "      <td>{'ccp_alpha': 0.0, 'criterion': 'friedman_mse'...</td>\n",
       "      <td>0.988201</td>\n",
       "      <td>0.752174</td>\n",
       "      <td>0.043608</td>\n",
       "      <td>0.673836</td>\n",
       "      <td>0.778417</td>\n",
       "      <td>0.769231</td>\n",
       "    </tr>\n",
       "    <tr>\n",
       "      <th>4</th>\n",
       "      <td>RandomForestClassifier</td>\n",
       "      <td>{'bootstrap': True, 'ccp_alpha': 0.0, 'class_w...</td>\n",
       "      <td>0.998561</td>\n",
       "      <td>0.749164</td>\n",
       "      <td>0.0418528</td>\n",
       "      <td>0.257426</td>\n",
       "      <td>0.778417</td>\n",
       "      <td>0.769231</td>\n",
       "    </tr>\n",
       "    <tr>\n",
       "      <th>21</th>\n",
       "      <td>XGBClassifier</td>\n",
       "      <td>{'objective': 'binary:logistic', 'base_score':...</td>\n",
       "      <td>0.998705</td>\n",
       "      <td>0.743813</td>\n",
       "      <td>0.0751102</td>\n",
       "      <td>0.115591</td>\n",
       "      <td>0.778417</td>\n",
       "      <td>0.769231</td>\n",
       "    </tr>\n",
       "    <tr>\n",
       "      <th>2</th>\n",
       "      <td>ExtraTreesClassifier</td>\n",
       "      <td>{'bootstrap': False, 'ccp_alpha': 0.0, 'class_...</td>\n",
       "      <td>0.998705</td>\n",
       "      <td>0.738796</td>\n",
       "      <td>0.0292351</td>\n",
       "      <td>0.117782</td>\n",
       "      <td>0.778417</td>\n",
       "      <td>0.769231</td>\n",
       "    </tr>\n",
       "    <tr>\n",
       "      <th>0</th>\n",
       "      <td>AdaBoostClassifier</td>\n",
       "      <td>{'algorithm': 'SAMME.R', 'base_estimator': Non...</td>\n",
       "      <td>0.893094</td>\n",
       "      <td>0.73612</td>\n",
       "      <td>0.0715758</td>\n",
       "      <td>0.187012</td>\n",
       "      <td>0.778417</td>\n",
       "      <td>0.769231</td>\n",
       "    </tr>\n",
       "    <tr>\n",
       "      <th>1</th>\n",
       "      <td>BaggingClassifier</td>\n",
       "      <td>{'base_estimator': None, 'bootstrap': True, 'b...</td>\n",
       "      <td>0.989496</td>\n",
       "      <td>0.72107</td>\n",
       "      <td>0.0487836</td>\n",
       "      <td>0.132241</td>\n",
       "      <td>0.778417</td>\n",
       "      <td>0.769231</td>\n",
       "    </tr>\n",
       "    <tr>\n",
       "      <th>20</th>\n",
       "      <td>QuadraticDiscriminantAnalysis</td>\n",
       "      <td>{'priors': None, 'reg_param': 0.0, 'store_cova...</td>\n",
       "      <td>0.811942</td>\n",
       "      <td>0.715385</td>\n",
       "      <td>0.102954</td>\n",
       "      <td>0.012967</td>\n",
       "      <td>0.778417</td>\n",
       "      <td>0.769231</td>\n",
       "    </tr>\n",
       "    <tr>\n",
       "      <th>13</th>\n",
       "      <td>KNeighborsClassifier</td>\n",
       "      <td>{'algorithm': 'auto', 'leaf_size': 30, 'metric...</td>\n",
       "      <td>0.784604</td>\n",
       "      <td>0.71505</td>\n",
       "      <td>0.085113</td>\n",
       "      <td>0.00368071</td>\n",
       "      <td>0.778417</td>\n",
       "      <td>0.769231</td>\n",
       "    </tr>\n",
       "    <tr>\n",
       "      <th>7</th>\n",
       "      <td>PassiveAggressiveClassifier</td>\n",
       "      <td>{'C': 1.0, 'average': False, 'class_weight': N...</td>\n",
       "      <td>0.742302</td>\n",
       "      <td>0.712375</td>\n",
       "      <td>0.161784</td>\n",
       "      <td>0.00211332</td>\n",
       "      <td>0.778417</td>\n",
       "      <td>0.769231</td>\n",
       "    </tr>\n",
       "    <tr>\n",
       "      <th>11</th>\n",
       "      <td>BernoulliNB</td>\n",
       "      <td>{'alpha': 1.0, 'binarize': 0.0, 'class_prior':...</td>\n",
       "      <td>0.748921</td>\n",
       "      <td>0.707023</td>\n",
       "      <td>0.0625302</td>\n",
       "      <td>0.00160594</td>\n",
       "      <td>0.778417</td>\n",
       "      <td>0.769231</td>\n",
       "    </tr>\n",
       "    <tr>\n",
       "      <th>12</th>\n",
       "      <td>GaussianNB</td>\n",
       "      <td>{'priors': None, 'var_smoothing': 1e-09}</td>\n",
       "      <td>0.69036</td>\n",
       "      <td>0.690635</td>\n",
       "      <td>0.0610723</td>\n",
       "      <td>0.00107532</td>\n",
       "      <td>0.778417</td>\n",
       "      <td>0.769231</td>\n",
       "    </tr>\n",
       "    <tr>\n",
       "      <th>10</th>\n",
       "      <td>Perceptron</td>\n",
       "      <td>{'alpha': 0.0001, 'class_weight': None, 'early...</td>\n",
       "      <td>0.717986</td>\n",
       "      <td>0.683278</td>\n",
       "      <td>0.198857</td>\n",
       "      <td>0.00151184</td>\n",
       "      <td>0.778417</td>\n",
       "      <td>0.769231</td>\n",
       "    </tr>\n",
       "    <tr>\n",
       "      <th>17</th>\n",
       "      <td>DecisionTreeClassifier</td>\n",
       "      <td>{'ccp_alpha': 0.0, 'class_weight': None, 'crit...</td>\n",
       "      <td>0.998129</td>\n",
       "      <td>0.647492</td>\n",
       "      <td>0.062369</td>\n",
       "      <td>0.0222397</td>\n",
       "      <td>0.778417</td>\n",
       "      <td>0.769231</td>\n",
       "    </tr>\n",
       "    <tr>\n",
       "      <th>18</th>\n",
       "      <td>ExtraTreeClassifier</td>\n",
       "      <td>{'ccp_alpha': 0.0, 'class_weight': None, 'crit...</td>\n",
       "      <td>0.998273</td>\n",
       "      <td>0.599331</td>\n",
       "      <td>0.108602</td>\n",
       "      <td>0.00139623</td>\n",
       "      <td>0.778417</td>\n",
       "      <td>0.769231</td>\n",
       "    </tr>\n",
       "  </tbody>\n",
       "</table>\n",
       "</div>"
      ],
      "text/plain": [
       "                         MLA Name  \\\n",
       "14                            SVC   \n",
       "15                          NuSVC   \n",
       "6            LogisticRegressionCV   \n",
       "9                   SGDClassifier   \n",
       "19     LinearDiscriminantAnalysis   \n",
       "5       GaussianProcessClassifier   \n",
       "16                      LinearSVC   \n",
       "8                 RidgeClassifier   \n",
       "3      GradientBoostingClassifier   \n",
       "4          RandomForestClassifier   \n",
       "21                  XGBClassifier   \n",
       "2            ExtraTreesClassifier   \n",
       "0              AdaBoostClassifier   \n",
       "1               BaggingClassifier   \n",
       "20  QuadraticDiscriminantAnalysis   \n",
       "13           KNeighborsClassifier   \n",
       "7     PassiveAggressiveClassifier   \n",
       "11                    BernoulliNB   \n",
       "12                     GaussianNB   \n",
       "10                     Perceptron   \n",
       "17         DecisionTreeClassifier   \n",
       "18            ExtraTreeClassifier   \n",
       "\n",
       "                                       MLA Parameters MLA Train Accuracy Mean  \\\n",
       "14  {'C': 1.444, 'break_ties': False, 'cache_size'...                 0.88446   \n",
       "15  {'break_ties': False, 'cache_size': 200, 'clas...                0.893094   \n",
       "6   {'Cs': 10, 'class_weight': None, 'cv': None, '...                 0.80705   \n",
       "9   {'alpha': 0.0001, 'average': False, 'class_wei...                0.788058   \n",
       "19  {'n_components': None, 'priors': None, 'shrink...                0.801871   \n",
       "5   {'copy_X_train': True, 'kernel': None, 'max_it...                0.797554   \n",
       "16  {'C': 1.0, 'class_weight': None, 'dual': True,...                0.800288   \n",
       "8   {'alpha': 1.0, 'class_weight': None, 'copy_X':...                0.797122   \n",
       "3   {'ccp_alpha': 0.0, 'criterion': 'friedman_mse'...                0.988201   \n",
       "4   {'bootstrap': True, 'ccp_alpha': 0.0, 'class_w...                0.998561   \n",
       "21  {'objective': 'binary:logistic', 'base_score':...                0.998705   \n",
       "2   {'bootstrap': False, 'ccp_alpha': 0.0, 'class_...                0.998705   \n",
       "0   {'algorithm': 'SAMME.R', 'base_estimator': Non...                0.893094   \n",
       "1   {'base_estimator': None, 'bootstrap': True, 'b...                0.989496   \n",
       "20  {'priors': None, 'reg_param': 0.0, 'store_cova...                0.811942   \n",
       "13  {'algorithm': 'auto', 'leaf_size': 30, 'metric...                0.784604   \n",
       "7   {'C': 1.0, 'average': False, 'class_weight': N...                0.742302   \n",
       "11  {'alpha': 1.0, 'binarize': 0.0, 'class_prior':...                0.748921   \n",
       "12           {'priors': None, 'var_smoothing': 1e-09}                 0.69036   \n",
       "10  {'alpha': 0.0001, 'class_weight': None, 'early...                0.717986   \n",
       "17  {'ccp_alpha': 0.0, 'class_weight': None, 'crit...                0.998129   \n",
       "18  {'ccp_alpha': 0.0, 'class_weight': None, 'crit...                0.998273   \n",
       "\n",
       "   MLA Test Accuracy Mean MLA Test Accuracy 3*STD    MLA Time  Keys_train  \\\n",
       "14               0.795318               0.0591548    0.109511    0.778417   \n",
       "15                0.78495               0.0489587   0.0265274    0.778417   \n",
       "6                0.770234               0.0741457    0.296018    0.778417   \n",
       "9                0.762876               0.0376622  0.00371337    0.778417   \n",
       "19               0.762876               0.0811965  0.00588443    0.778417   \n",
       "5                0.762542               0.0726299     0.25024    0.778417   \n",
       "16               0.761538               0.0674633  0.00816352    0.778417   \n",
       "8                0.761204               0.0449158  0.00207245    0.778417   \n",
       "3                0.752174                0.043608    0.673836    0.778417   \n",
       "4                0.749164               0.0418528    0.257426    0.778417   \n",
       "21               0.743813               0.0751102    0.115591    0.778417   \n",
       "2                0.738796               0.0292351    0.117782    0.778417   \n",
       "0                 0.73612               0.0715758    0.187012    0.778417   \n",
       "1                 0.72107               0.0487836    0.132241    0.778417   \n",
       "20               0.715385                0.102954    0.012967    0.778417   \n",
       "13                0.71505                0.085113  0.00368071    0.778417   \n",
       "7                0.712375                0.161784  0.00211332    0.778417   \n",
       "11               0.707023               0.0625302  0.00160594    0.778417   \n",
       "12               0.690635               0.0610723  0.00107532    0.778417   \n",
       "10               0.683278                0.198857  0.00151184    0.778417   \n",
       "17               0.647492                0.062369   0.0222397    0.778417   \n",
       "18               0.599331                0.108602  0.00139623    0.778417   \n",
       "\n",
       "    Keys_test  \n",
       "14   0.769231  \n",
       "15   0.769231  \n",
       "6    0.769231  \n",
       "9    0.769231  \n",
       "19   0.769231  \n",
       "5    0.769231  \n",
       "16   0.769231  \n",
       "8    0.769231  \n",
       "3    0.769231  \n",
       "4    0.769231  \n",
       "21   0.769231  \n",
       "2    0.769231  \n",
       "0    0.769231  \n",
       "1    0.769231  \n",
       "20   0.769231  \n",
       "13   0.769231  \n",
       "7    0.769231  \n",
       "11   0.769231  \n",
       "12   0.769231  \n",
       "10   0.769231  \n",
       "17   0.769231  \n",
       "18   0.769231  "
      ]
     },
     "execution_count": 276,
     "metadata": {},
     "output_type": "execute_result"
    }
   ],
   "source": [
    "%%time\n",
    "MLA = [\n",
    "    #Ensemble Methods\n",
    "    ensemble.AdaBoostClassifier(),\n",
    "    ensemble.BaggingClassifier(),\n",
    "    ensemble.ExtraTreesClassifier(),\n",
    "    ensemble.GradientBoostingClassifier(),\n",
    "    ensemble.RandomForestClassifier(),\n",
    "\n",
    "    #Gaussian Processes\n",
    "    gaussian_process.GaussianProcessClassifier(),\n",
    "    \n",
    "    #GLM\n",
    "    linear_model.LogisticRegressionCV(),\n",
    "    linear_model.PassiveAggressiveClassifier(),\n",
    "    linear_model.RidgeClassifier(),\n",
    "    linear_model.SGDClassifier(),\n",
    "    linear_model.Perceptron(),\n",
    "    \n",
    "    #Navies Bayes\n",
    "    naive_bayes.BernoulliNB(),\n",
    "    naive_bayes.GaussianNB(),\n",
    "    \n",
    "    #Nearest Neighbor\n",
    "    neighbors.KNeighborsClassifier(),\n",
    "    \n",
    "    #SVM\n",
    "    svm.SVC(kernel = 'rbf',probability=True,C=1.444,gamma=1.25),\n",
    "    svm.NuSVC(),\n",
    "    svm.LinearSVC(),\n",
    "    \n",
    "    #Trees    \n",
    "    tree.DecisionTreeClassifier(),\n",
    "    tree.ExtraTreeClassifier(),\n",
    "    \n",
    "    #Discriminant Analysis\n",
    "    discriminant_analysis.LinearDiscriminantAnalysis(),\n",
    "    discriminant_analysis.QuadraticDiscriminantAnalysis(),\n",
    "\n",
    "    \n",
    "    #xgboost: http://xgboost.readthedocs.io/en/latest/model.html\n",
    "    XGBClassifier()    \n",
    "    ]\n",
    "\n",
    "cv_split = model_selection.ShuffleSplit(n_splits = 10, test_size = .3) # run model 10x with 60/30 split intentionally leaving out 10%\n",
    "\n",
    "#create table to compare MLA metrics\n",
    "MLA_columns = ['MLA Name', 'MLA Parameters','MLA Train Accuracy Mean', 'MLA Test Accuracy Mean', 'MLA Test Accuracy 3*STD' ,'MLA Time']\n",
    "MLA_compare = pd.DataFrame(columns = MLA_columns)\n",
    "\n",
    "#create table to compare MLA predictions\n",
    "MLA_predict = y.copy()\n",
    "\n",
    "#index through MLA and save performance to table\n",
    "row_index = 0\n",
    "for alg in MLA:\n",
    "\n",
    "    #set name and parameters\n",
    "    MLA_name = alg.__class__.__name__\n",
    "    MLA_compare.loc[row_index, 'MLA Name'] = MLA_name\n",
    "    MLA_compare.loc[row_index, 'MLA Parameters'] = str(alg.get_params())\n",
    "    \n",
    "    #score model with cross validation: http://scikit-learn.org/stable/modules/generated/sklearn.model_selection.cross_validate.html#sklearn.model_selection.cross_validate\n",
    "    cv_results = model_selection.cross_validate(alg, X,y, cv  = cv_split,return_train_score=True)\n",
    "\n",
    "    MLA_compare.loc[row_index, 'MLA Time'] = cv_results['fit_time'].mean()\n",
    "    MLA_compare.loc[row_index, 'MLA Train Accuracy Mean'] = cv_results['train_score'].mean()\n",
    "    MLA_compare.loc[row_index, 'MLA Test Accuracy Mean'] = cv_results['test_score'].mean()   \n",
    "    #if this is a non-bias random sample, then +/-3 standard deviations (std) from the mean, should statistically capture 99.7% of the subsets\n",
    "    MLA_compare.loc[row_index, 'MLA Test Accuracy 3*STD'] = cv_results['test_score'].std()*3   #let's know the worst that can happen!\n",
    "    \n",
    "    MLA_compare.loc[row_index,'Keys_train']=accuracy_score(ytrain,ytrain1)\n",
    "    MLA_compare.loc[row_index,'Keys_test']=accuracy_score(ytest,ytest1)\n",
    "    row_index+=1\n",
    "\n",
    "MLA_compare.sort_values(by = ['MLA Test Accuracy Mean'], ascending = False, inplace = True)\n",
    "MLA_compare\n"
   ]
  },
  {
   "cell_type": "markdown",
   "metadata": {},
   "source": [
    "# RF"
   ]
  },
  {
   "cell_type": "markdown",
   "metadata": {},
   "source": [
    "## estimators"
   ]
  },
  {
   "cell_type": "code",
   "execution_count": 306,
   "metadata": {},
   "outputs": [],
   "source": [
    "from sklearn.ensemble import RandomForestClassifier\n",
    "from tqdm import tqdm"
   ]
  },
  {
   "cell_type": "code",
   "execution_count": 307,
   "metadata": {},
   "outputs": [
    {
     "name": "stderr",
     "output_type": "stream",
     "text": [
      "100%|██████████████████████████████████████████████████████████████████████████████████| 40/40 [02:34<00:00,  3.86s/it]\n"
     ]
    }
   ],
   "source": [
    "import time\n",
    "a=time.time()\n",
    "scorelst=[]\n",
    "n_e=400\n",
    "for i in tqdm(range(0,n_e,10)):\n",
    "    rfc=RandomForestClassifier(n_estimators=i+1,n_jobs=-1,random_state=0)\n",
    "    score=cross_val_score(rfc,X,y,cv=10).mean()\n",
    "    scorelst.append(score)"
   ]
  },
  {
   "cell_type": "code",
   "execution_count": 315,
   "metadata": {},
   "outputs": [
    {
     "data": {
      "text/plain": [
       "[<matplotlib.lines.Line2D at 0x1a21aab0448>]"
      ]
     },
     "execution_count": 315,
     "metadata": {},
     "output_type": "execute_result"
    },
    {
     "data": {
      "text/plain": [
       "29"
      ]
     },
     "execution_count": 315,
     "metadata": {},
     "output_type": "execute_result"
    },
    {
     "data": {
      "text/plain": [
       "0.7665959595959596"
      ]
     },
     "execution_count": 315,
     "metadata": {},
     "output_type": "execute_result"
    },
    {
     "data": {
      "image/png": "[encoded data removed]",
      "text/plain": [
       "<Figure size 432x288 with 1 Axes>"
      ]
     },
     "metadata": {
      "needs_background": "light"
     },
     "output_type": "display_data"
    }
   ],
   "source": [
    "plt.plot(range(0,n_e,10),scorelst)\n",
    "np.argmax(scorelst)\n",
    "max(scorelst)\n",
    "n_estimator_max=np.arange(0,n_e,10)[np.argmax(scorelst)]"
   ]
  },
  {
   "cell_type": "markdown",
   "metadata": {},
   "source": [
    "## max_depth"
   ]
  },
  {
   "cell_type": "code",
   "execution_count": 311,
   "metadata": {},
   "outputs": [],
   "source": [
    "from sklearn.model_selection import GridSearchCV"
   ]
  },
  {
   "cell_type": "code",
   "execution_count": 316,
   "metadata": {},
   "outputs": [
    {
     "data": {
      "text/plain": [
       "GridSearchCV(cv=10, error_score=nan,\n",
       "             estimator=RandomForestClassifier(bootstrap=True, ccp_alpha=0.0,\n",
       "                                              class_weight=None,\n",
       "                                              criterion='gini', max_depth=None,\n",
       "                                              max_features='auto',\n",
       "                                              max_leaf_nodes=None,\n",
       "                                              max_samples=None,\n",
       "                                              min_impurity_decrease=0.0,\n",
       "                                              min_impurity_split=None,\n",
       "                                              min_samples_leaf=1,\n",
       "                                              min_samples_split=2,\n",
       "                                              min_weight_fraction_leaf=0.0,\n",
       "                                              n_estimators=290, n_jobs=None,\n",
       "                                              oob_score=False, random_state=90,\n",
       "                                              verbose=0, warm_start=False),\n",
       "             iid='deprecated', n_jobs=None,\n",
       "             param_grid={'max_depth': array([ 1,  2,  3,  4,  5,  6,  7,  8,  9, 10, 11, 12, 13, 14, 15, 16, 17,\n",
       "       18, 19])},\n",
       "             pre_dispatch='2*n_jobs', refit=True, return_train_score=False,\n",
       "             scoring=None, verbose=0)"
      ]
     },
     "execution_count": 316,
     "metadata": {},
     "output_type": "execute_result"
    },
    {
     "data": {
      "text/plain": [
       "{'max_depth': 19}"
      ]
     },
     "execution_count": 316,
     "metadata": {},
     "output_type": "execute_result"
    },
    {
     "data": {
      "text/plain": [
       "0.7746262626262627"
      ]
     },
     "execution_count": 316,
     "metadata": {},
     "output_type": "execute_result"
    }
   ],
   "source": [
    "para_grid={'max_depth':np.arange(1,20,1)}\n",
    "rfc=RandomForestClassifier(n_estimators=n_estimator_max,\n",
    "                          random_state=90)\n",
    "GS=GridSearchCV(rfc,para_grid,cv=10)\n",
    "GS.fit(X,y)\n",
    "GS.best_params_\n",
    "GS.best_score_"
   ]
  },
  {
   "cell_type": "markdown",
   "metadata": {},
   "source": [
    "## features"
   ]
  },
  {
   "cell_type": "code",
   "execution_count": 317,
   "metadata": {},
   "outputs": [
    {
     "name": "stdout",
     "output_type": "stream",
     "text": [
      "0.7756868686868688\n",
      "{'max_features': 11}\n",
      "Wall time: 8min 20s\n"
     ]
    }
   ],
   "source": [
    "%%time\n",
    "para_grid={\"max_features\":np.arange(5,30,1)}\n",
    "rfc=RandomForestClassifier(n_estimators=n_estimator_max,max_depth=19,random_state=90)\n",
    "gs=GridSearchCV(rfc,para_grid,cv=10)\n",
    "gs.fit(X,y)\n",
    "print(gs.best_score_)\n",
    "print(gs.best_params_)"
   ]
  },
  {
   "cell_type": "markdown",
   "metadata": {},
   "source": [
    "## min_sample"
   ]
  },
  {
   "cell_type": "code",
   "execution_count": 328,
   "metadata": {},
   "outputs": [
    {
     "name": "stdout",
     "output_type": "stream",
     "text": [
      "0.7756868686868688\n",
      "{'min_samples_leaf': 1}\n",
      "Wall time: 2min\n"
     ]
    }
   ],
   "source": [
    "%%time\n",
    "param_grid={'min_samples_leaf':np.arange(1, 1+10, 1)}\n",
    "rfc=RandomForestClassifier(n_estimators=290,max_depth=19,max_features=11,random_state=90)\n",
    "gs=GridSearchCV(rfc,param_grid,cv=10)\n",
    "gs.fit(X,y)\n",
    "print(gs.best_score_)\n",
    "print(gs.best_params_)"
   ]
  },
  {
   "cell_type": "code",
   "execution_count": 319,
   "metadata": {},
   "outputs": [
    {
     "name": "stdout",
     "output_type": "stream",
     "text": [
      "Wall time: 13.8 s\n"
     ]
    },
    {
     "data": {
      "text/plain": [
       "0.7756868686868688"
      ]
     },
     "execution_count": 319,
     "metadata": {},
     "output_type": "execute_result"
    }
   ],
   "source": [
    "%%time\n",
    "rfc=RandomForestClassifier(n_estimators=290,max_depth=19,max_features=11,random_state=90)\n",
    "cross_val_score(rfc,X,y,cv=10).mean()"
   ]
  },
  {
   "cell_type": "code",
   "execution_count": 329,
   "metadata": {},
   "outputs": [
    {
     "name": "stdout",
     "output_type": "stream",
     "text": [
      "acc\n"
     ]
    },
    {
     "data": {
      "text/plain": [
       "0.7756868686868688"
      ]
     },
     "execution_count": 329,
     "metadata": {},
     "output_type": "execute_result"
    },
    {
     "data": {
      "text/plain": [
       "0.7756539235412475"
      ]
     },
     "execution_count": 329,
     "metadata": {},
     "output_type": "execute_result"
    },
    {
     "data": {
      "text/plain": [
       "0.6519114688128773"
      ]
     },
     "execution_count": 329,
     "metadata": {},
     "output_type": "execute_result"
    },
    {
     "name": "stdout",
     "output_type": "stream",
     "text": [
      "f1\n"
     ]
    },
    {
     "data": {
      "text/plain": [
       "0.8410698147500503"
      ]
     },
     "execution_count": 329,
     "metadata": {},
     "output_type": "execute_result"
    },
    {
     "data": {
      "text/plain": [
       "0.8316981132075472"
      ]
     },
     "execution_count": 329,
     "metadata": {},
     "output_type": "execute_result"
    },
    {
     "data": {
      "text/plain": [
       "0.7892813641900123"
      ]
     },
     "execution_count": 329,
     "metadata": {},
     "output_type": "execute_result"
    },
    {
     "name": "stdout",
     "output_type": "stream",
     "text": [
      "recall\n"
     ]
    },
    {
     "data": {
      "text/plain": [
       "0.9103846153846155"
      ]
     },
     "execution_count": 329,
     "metadata": {},
     "output_type": "execute_result"
    },
    {
     "data": {
      "text/plain": [
       "0.8503086419753086"
      ]
     },
     "execution_count": 329,
     "metadata": {},
     "output_type": "execute_result"
    },
    {
     "data": {
      "text/plain": [
       "1.0"
      ]
     },
     "execution_count": 329,
     "metadata": {},
     "output_type": "execute_result"
    }
   ],
   "source": [
    "model=RandomForestClassifier(n_estimators=290,max_depth=19,max_features=11,random_state=90)\n",
    "print('acc')\n",
    "cross_val_score(model,X,y,cv=10,scoring='accuracy').mean()\n",
    "accuracy_score(y,y1)\n",
    "accuracy_score(y,y2)\n",
    "\n",
    "print('f1')\n",
    "cross_val_score(model,X,y,cv=10,scoring='f1').mean()\n",
    "f1_score(y,y1)\n",
    "f1_score(y,y2)\n",
    "\n",
    "print('recall')\n",
    "cross_val_score(model,X,y,cv=10,scoring='recall').mean()\n",
    "recall_score(y,y1)\n",
    "recall_score(y,y2)"
   ]
  },
  {
   "cell_type": "markdown",
   "metadata": {},
   "source": [
    "# XGB"
   ]
  },
  {
   "cell_type": "code",
   "execution_count": 321,
   "metadata": {},
   "outputs": [
    {
     "name": "stdout",
     "output_type": "stream",
     "text": [
      "{'n_estimators': 200}\n",
      "0.7605656565656566\n",
      "Wall time: 16.6 s\n"
     ]
    }
   ],
   "source": [
    "%%time\n",
    "model=XGBClassifier()\n",
    "para={'n_estimators':np.arange(50,400,50)}\n",
    "grid_model=GridSearchCV(model,param_grid=para,cv=10,scoring='accuracy',n_jobs=-1)\n",
    "grid_model.fit(X,y)\n",
    "print(grid_model.best_params_)\n",
    "print(grid_model.best_score_)"
   ]
  },
  {
   "cell_type": "code",
   "execution_count": 323,
   "metadata": {},
   "outputs": [
    {
     "data": {
      "text/plain": [
       "GridSearchCV(cv=10, error_score=nan,\n",
       "             estimator=XGBClassifier(base_score=None, booster=None,\n",
       "                                     colsample_bylevel=None,\n",
       "                                     colsample_bynode=None,\n",
       "                                     colsample_bytree=None, gamma=None,\n",
       "                                     gpu_id=None, importance_type='gain',\n",
       "                                     interaction_constraints=None,\n",
       "                                     learning_rate=None, max_delta_step=None,\n",
       "                                     max_depth=None, min_child_weight=None,\n",
       "                                     missing=nan, monotone_constraints=None,\n",
       "                                     n_esti...\n",
       "                                     objective='binary:logistic',\n",
       "                                     random_state=None, reg_alpha=None,\n",
       "                                     reg_lambda=None, scale_pos_weight=None,\n",
       "                                     subsample=None, tree_method=None,\n",
       "                                     validate_parameters=None, verbosity=None),\n",
       "             iid='deprecated', n_jobs=-1,\n",
       "             param_grid={'learning_rate': array([0. , 0.1, 0.2, 0.3, 0.4, 0.5, 0.6, 0.7, 0.8, 0.9])},\n",
       "             pre_dispatch='2*n_jobs', refit=True, return_train_score=False,\n",
       "             scoring='accuracy', verbose=0)"
      ]
     },
     "execution_count": 323,
     "metadata": {},
     "output_type": "execute_result"
    },
    {
     "name": "stdout",
     "output_type": "stream",
     "text": [
      "{'learning_rate': 0.4}\n",
      "0.7606363636363637\n"
     ]
    }
   ],
   "source": [
    "model=XGBClassifier(n_estimators=200)\n",
    "para={'learning_rate':np.arange(0,1,0.1)}\n",
    "grid_model=GridSearchCV(model,cv=10,param_grid=para,scoring='accuracy',n_jobs=-1)\n",
    "grid_model.fit(X,y)\n",
    "\n",
    "print(grid_model.best_params_)\n",
    "print(grid_model.best_score_)"
   ]
  },
  {
   "cell_type": "code",
   "execution_count": 326,
   "metadata": {},
   "outputs": [
    {
     "data": {
      "text/plain": [
       "0.7606363636363637"
      ]
     },
     "execution_count": 326,
     "metadata": {},
     "output_type": "execute_result"
    }
   ],
   "source": [
    "model=XGBClassifier(n_estimators=200,learning_rate=0.4)\n",
    "cross_val_score(model,X,y,cv=10).mean()"
   ]
  },
  {
   "cell_type": "code",
   "execution_count": 330,
   "metadata": {},
   "outputs": [
    {
     "name": "stdout",
     "output_type": "stream",
     "text": [
      "acc\n"
     ]
    },
    {
     "data": {
      "text/plain": [
       "0.7606363636363637"
      ]
     },
     "execution_count": 330,
     "metadata": {},
     "output_type": "execute_result"
    },
    {
     "data": {
      "text/plain": [
       "0.7756539235412475"
      ]
     },
     "execution_count": 330,
     "metadata": {},
     "output_type": "execute_result"
    },
    {
     "data": {
      "text/plain": [
       "0.6519114688128773"
      ]
     },
     "execution_count": 330,
     "metadata": {},
     "output_type": "execute_result"
    },
    {
     "name": "stdout",
     "output_type": "stream",
     "text": [
      "f1\n"
     ]
    },
    {
     "data": {
      "text/plain": [
       "0.8256537404165064"
      ]
     },
     "execution_count": 330,
     "metadata": {},
     "output_type": "execute_result"
    },
    {
     "data": {
      "text/plain": [
       "0.8316981132075472"
      ]
     },
     "execution_count": 330,
     "metadata": {},
     "output_type": "execute_result"
    },
    {
     "data": {
      "text/plain": [
       "0.7892813641900123"
      ]
     },
     "execution_count": 330,
     "metadata": {},
     "output_type": "execute_result"
    },
    {
     "name": "stdout",
     "output_type": "stream",
     "text": [
      "recall\n"
     ]
    },
    {
     "data": {
      "text/plain": [
       "0.868798076923077"
      ]
     },
     "execution_count": 330,
     "metadata": {},
     "output_type": "execute_result"
    },
    {
     "data": {
      "text/plain": [
       "0.8503086419753086"
      ]
     },
     "execution_count": 330,
     "metadata": {},
     "output_type": "execute_result"
    },
    {
     "data": {
      "text/plain": [
       "1.0"
      ]
     },
     "execution_count": 330,
     "metadata": {},
     "output_type": "execute_result"
    }
   ],
   "source": [
    "model=XGBClassifier(n_estimators=200,learning_rate=0.4)\n",
    "print('acc')\n",
    "cross_val_score(model,X,y,cv=10,scoring='accuracy').mean()\n",
    "accuracy_score(y,y1)\n",
    "accuracy_score(y,y2)\n",
    "\n",
    "print('f1')\n",
    "cross_val_score(model,X,y,cv=10,scoring='f1').mean()\n",
    "f1_score(y,y1)\n",
    "f1_score(y,y2)\n",
    "\n",
    "print('recall')\n",
    "cross_val_score(model,X,y,cv=10,scoring='recall').mean()\n",
    "recall_score(y,y1)\n",
    "recall_score(y,y2)"
   ]
  },
  {
   "cell_type": "code",
   "execution_count": null,
   "metadata": {},
   "outputs": [],
   "source": [
    "#Machine Learning Algorithm (MLA) Selection and Initialization\n",
    "MLA = [\n",
    "    #Ensemble Methods\n",
    "    ensemble.AdaBoostClassifier(),\n",
    "    ensemble.BaggingClassifier(),\n",
    "    ensemble.ExtraTreesClassifier(),\n",
    "    ensemble.GradientBoostingClassifier(),\n",
    "    ensemble.RandomForestClassifier(),\n",
    "\n",
    "    #Gaussian Processes\n",
    "    gaussian_process.GaussianProcessClassifier(),\n",
    "    \n",
    "    #GLM\n",
    "    linear_model.LogisticRegressionCV(),\n",
    "    linear_model.PassiveAggressiveClassifier(),\n",
    "    linear_model.RidgeClassifier(),\n",
    "    linear_model.SGDClassifier(),\n",
    "    linear_model.Perceptron(),\n",
    "    \n",
    "    #Navies Bayes\n",
    "    naive_bayes.BernoulliNB(),\n",
    "    naive_bayes.GaussianNB(),\n",
    "    \n",
    "    #Nearest Neighbor\n",
    "    neighbors.KNeighborsClassifier(),\n",
    "    \n",
    "    #SVM\n",
    "    svm.SVC(),\n",
    "    svm.NuSVC(),\n",
    "    svm.LinearSVC(),\n",
    "    \n",
    "    #Trees    \n",
    "    tree.DecisionTreeClassifier(),\n",
    "    tree.ExtraTreeClassifier(),\n",
    "    \n",
    "    #Discriminant Analysis\n",
    "    discriminant_analysis.LinearDiscriminantAnalysis(),\n",
    "    discriminant_analysis.QuadraticDiscriminantAnalysis(),\n",
    "\n",
    "    XGBClassifier()    \n",
    "    ]\n",
    "\n",
    "# cv_split = model_selection.ShuffleSplit(n_splits = 5, test_size = .3, train_size = .6, random_state = 0 ) # run model 10x with 60/30 split intentionally leaving out 10%\n",
    "\n",
    "#create table to compare MLA metrics\n",
    "MLA_columns = ['MLA Name', 'MLA Parameters','MLA Train Accuracy Mean', 'MLA Test Accuracy Mean', 'MLA Test Accuracy 3*STD' ,'MLA Time']\n",
    "MLA_compare = pd.DataFrame(columns = MLA_columns)\n",
    "\n",
    "#create table to compare MLA predictions\n",
    "MLA_predict = ytrain.copy()\n",
    "\n",
    "#index through MLA and save performance to table\n",
    "row_index = 0\n",
    "for alg in MLA:\n",
    "\n",
    "    #set name and parameters\n",
    "    MLA_name = alg.__class__.__name__\n",
    "    MLA_compare.loc[row_index, 'MLA Name'] = MLA_name\n",
    "    MLA_compare.loc[row_index, 'MLA Parameters'] = str(alg.get_params())\n",
    "    \n",
    "    #score model with cross validation: http://scikit-learn.org/stable/modules/generated/sklearn.model_selection.cross_validate.html#sklearn.model_selection.cross_validate\n",
    "    cv_results = model_selection.cross_validate(alg, Xtrain,ytrain, cv  = cv_split,return_train_score=True)\n",
    "\n",
    "    MLA_compare.loc[row_index, 'MLA Time'] = cv_results['fit_time'].mean()\n",
    "    MLA_compare.loc[row_index, 'MLA Train Accuracy Mean'] = cv_results['train_score'].mean()\n",
    "    MLA_compare.loc[row_index, 'MLA Test Accuracy Mean'] = cv_results['test_score'].mean()   \n",
    "    #if this is a non-bias random sample, then +/-3 standard deviations (std) from the mean, should statistically capture 99.7% of the subsets\n",
    "    MLA_compare.loc[row_index, 'MLA Test Accuracy 3*STD'] = cv_results['test_score'].std()*3   #let's know the worst that can happen!\n",
    "    \n",
    "    MLA_name\n",
    "    #save MLA predictions - see section 6 for usage\n",
    "    _=alg.fit(Xtrain, ytrain)\n",
    "    MLA_predict[MLA_name] = alg.predict(Xtrain)\n",
    "    \n",
    "    \n",
    "    row_index+=1\n",
    "\n",
    "    \n",
    "#print and sort table: https://pandas.pydata.org/pandas-docs/stable/generated/pandas.DataFrame.sort_values.html\n",
    "MLA_compare.sort_values(by = ['MLA Test Accuracy Mean'], ascending = False, inplace = True)\n",
    "MLA_compare\n",
    "#MLA_predict\n"
   ]
  },
  {
   "cell_type": "code",
   "execution_count": 461,
   "metadata": {},
   "outputs": [
    {
     "name": "stdout",
     "output_type": "stream",
     "text": [
      "Wall time: 3min 14s\n"
     ]
    }
   ],
   "source": [
    "%%time\n",
    "acc_in_lst=[]\n",
    "acc_out_lst=[]\n",
    "guess_lst=[]\n",
    "for i,_condidate in enumerate(condidate):\n",
    "    y=np.where(score>_condidate,1,0).flatten()\n",
    "    c=np.sum(y)/len(y)\n",
    "    if c>=0.5:\n",
    "        guess_lst.append(c)\n",
    "    else:\n",
    "        guess_lst.append(1-c)\n",
    "        \n",
    "    Xtrain,Xtest,ytrain,ytest=train_test_split(X,y,test_size=0.33,random_state=25)\n",
    "    model=XGBClassifier()\n",
    "    model=model.fit(Xtrain,ytrain)\n",
    "    acc_in=accuracy_score(ytrain,model.predict(Xtrain))\n",
    "    acc_out=accuracy_score(ytest,model.predict(Xtest))\n",
    "    \n",
    "    acc_in_lst.append(acc_in)\n",
    "    acc_out_lst.append(acc_out)"
   ]
  },
  {
   "cell_type": "code",
   "execution_count": null,
   "metadata": {},
   "outputs": [],
   "source": [
    "# fig,axes=plt.subplots(1,2)\n",
    "axes=axes.flatten()\n",
    "axes[0].plot(lst)\n",
    "axes[0].plot(acc_in_lst)\n",
    "\n",
    "axes[1].plot(lst)\n",
    "axes[1].plot(acc_out_lst)\n"
   ]
  },
  {
   "cell_type": "markdown",
   "metadata": {},
   "source": [
    "# CNN的思考"
   ]
  },
  {
   "cell_type": "code",
   "execution_count": 545,
   "metadata": {},
   "outputs": [],
   "source": [
    "cnn_data=MinMaxScaler(feature_range=(0,255)).fit_transform(content_vetor).reshape(len(content_vetor),10,20)\n"
   ]
  },
  {
   "cell_type": "code",
   "execution_count": 551,
   "metadata": {
    "collapsed": true,
    "jupyter": {
     "outputs_hidden": true
    }
   },
   "outputs": [
    {
     "data": {
      "text/plain": [
       "<matplotlib.image.AxesImage at 0x21aaa74fcc8>"
      ]
     },
     "execution_count": 551,
     "metadata": {},
     "output_type": "execute_result"
    },
    {
     "data": {
      "text/plain": [
       "<matplotlib.image.AxesImage at 0x21af6faf808>"
      ]
     },
     "execution_count": 551,
     "metadata": {},
     "output_type": "execute_result"
    },
    {
     "data": {
      "text/plain": [
       "<matplotlib.image.AxesImage at 0x21b0de353c8>"
      ]
     },
     "execution_count": 551,
     "metadata": {},
     "output_type": "execute_result"
    },
    {
     "data": {
      "text/plain": [
       "<matplotlib.image.AxesImage at 0x21af6faf448>"
      ]
     },
     "execution_count": 551,
     "metadata": {},
     "output_type": "execute_result"
    },
    {
     "data": {
      "text/plain": [
       "<matplotlib.image.AxesImage at 0x21af6fa3188>"
      ]
     },
     "execution_count": 551,
     "metadata": {},
     "output_type": "execute_result"
    },
    {
     "data": {
      "text/plain": [
       "<matplotlib.image.AxesImage at 0x21ac42105c8>"
      ]
     },
     "execution_count": 551,
     "metadata": {},
     "output_type": "execute_result"
    },
    {
     "data": {
      "text/plain": [
       "<matplotlib.image.AxesImage at 0x21ab3f6d588>"
      ]
     },
     "execution_count": 551,
     "metadata": {},
     "output_type": "execute_result"
    },
    {
     "data": {
      "text/plain": [
       "<matplotlib.image.AxesImage at 0x21ac25ed8c8>"
      ]
     },
     "execution_count": 551,
     "metadata": {},
     "output_type": "execute_result"
    },
    {
     "data": {
      "text/plain": [
       "<matplotlib.image.AxesImage at 0x21b0cd17d48>"
      ]
     },
     "execution_count": 551,
     "metadata": {},
     "output_type": "execute_result"
    },
    {
     "data": {
      "text/plain": [
       "<matplotlib.image.AxesImage at 0x21b0cd1a108>"
      ]
     },
     "execution_count": 551,
     "metadata": {},
     "output_type": "execute_result"
    },
    {
     "data": {
      "image/png": "[encoded data removed]",
      "text/plain": [
       "<Figure size 720x3600 with 10 Axes>"
      ]
     },
     "metadata": {
      "needs_background": "light"
     },
     "output_type": "display_data"
    }
   ],
   "source": [
    "fig,axes=plt.subplots(10,1,figsize=(10,50))\n",
    "for i,ax in enumerate(axes.flatten()):\n",
    "    \n",
    "    ax.imshow(cnn_data[i,:,:],cmap='gray')"
   ]
  }
 ],
 "metadata": {
  "kernelspec": {
   "display_name": "Python 3",
   "language": "python",
   "name": "python3"
  },
  "language_info": {
   "codemirror_mode": {
    "name": "ipython",
    "version": 3
   },
   "file_extension": ".py",
   "mimetype": "text/x-python",
   "name": "python",
   "nbconvert_exporter": "python",
   "pygments_lexer": "ipython3",
   "version": "3.7.6"
  }
 },
 "nbformat": 4,
 "nbformat_minor": 4
}
